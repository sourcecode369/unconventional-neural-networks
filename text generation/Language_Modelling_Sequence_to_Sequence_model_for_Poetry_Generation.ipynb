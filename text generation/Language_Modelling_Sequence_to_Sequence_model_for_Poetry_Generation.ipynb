{
  "nbformat": 4,
  "nbformat_minor": 0,
  "metadata": {
    "colab": {
      "name": "Language Modelling - Sequence to Sequence model for Poetry Generation.ipynb",
      "provenance": [],
      "authorship_tag": "ABX9TyOFeViyXHl3H8G5EbW8f99g",
      "include_colab_link": true
    },
    "kernelspec": {
      "name": "python3",
      "display_name": "Python 3"
    },
    "accelerator": "GPU"
  },
  "cells": [
    {
      "cell_type": "markdown",
      "metadata": {
        "id": "view-in-github",
        "colab_type": "text"
      },
      "source": [
        "<a href=\"https://colab.research.google.com/github/sourcecode369/unconventional-neural-networks/blob/master/text%20generation/Language_Modelling_Sequence_to_Sequence_model_for_Poetry_Generation.ipynb\" target=\"_parent\"><img src=\"https://colab.research.google.com/assets/colab-badge.svg\" alt=\"Open In Colab\"/></a>"
      ]
    },
    {
      "cell_type": "code",
      "metadata": {
        "id": "6RDAUNmlR5mW",
        "colab_type": "code",
        "colab": {
          "base_uri": "https://localhost:8080/",
          "height": 81
        },
        "outputId": "06560d67-34aa-4fca-8870-5684b3f86455"
      },
      "source": [
        "from __future__ import absolute_import, print_function, unicode_literals, division\n",
        "from builtins import range, input\n",
        "\n",
        "import os\n",
        "import sys\n",
        "import numpy as np\n",
        "import pandas as pd\n",
        "import matplotlib.pyplot as plt\n",
        "import glob\n",
        "%matplotlib inline\n",
        "\n",
        "from keras.models import Model, Sequential\n",
        "from keras.layers import Dense, Embedding, Input, LSTM\n",
        "from keras.preprocessing.text import Tokenizer\n",
        "from keras.preprocessing.sequence import pad_sequences\n",
        "from keras.optimizers import Adam, SGD\n",
        "from keras.utils import plot_model, np_utils"
      ],
      "execution_count": 2,
      "outputs": [
        {
          "output_type": "stream",
          "text": [
            "Using TensorFlow backend.\n"
          ],
          "name": "stderr"
        },
        {
          "output_type": "display_data",
          "data": {
            "text/html": [
              "<p style=\"color: red;\">\n",
              "The default version of TensorFlow in Colab will soon switch to TensorFlow 2.x.<br>\n",
              "We recommend you <a href=\"https://www.tensorflow.org/guide/migrate\" target=\"_blank\">upgrade</a> now \n",
              "or ensure your notebook will continue to use TensorFlow 1.x via the <code>%tensorflow_version 1.x</code> magic:\n",
              "<a href=\"https://colab.research.google.com/notebooks/tensorflow_version.ipynb\" target=\"_blank\">more info</a>.</p>\n"
            ],
            "text/plain": [
              "<IPython.core.display.HTML object>"
            ]
          },
          "metadata": {
            "tags": []
          }
        }
      ]
    },
    {
      "cell_type": "code",
      "metadata": {
        "id": "J_O9QqicSx1b",
        "colab_type": "code",
        "colab": {}
      },
      "source": [
        "MAX_SEQUENCE_LENGTH = 100\n",
        "MAX_VOCAB_SIZE = 3000\n",
        "EMBEDDING_DIM = 50\n",
        "VALIDATION_SPLIT = 0.3\n",
        "BATCH_SIZE = 256\n",
        "EPOCHS = 200\n",
        "LATENT_DIM = 100"
      ],
      "execution_count": 0,
      "outputs": []
    },
    {
      "cell_type": "code",
      "metadata": {
        "id": "JhxzFGKzTa-_",
        "colab_type": "code",
        "colab": {
          "resources": {
            "http://localhost:8080/nbextensions/google.colab/files.js": {
              "data": "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",
              "ok": true,
              "headers": [
                [
                  "content-type",
                  "application/javascript"
                ]
              ],
              "status": 200,
              "status_text": ""
            }
          },
          "base_uri": "https://localhost:8080/",
          "height": 74
        },
        "outputId": "d87bfabd-2d08-4810-fdb2-aeb6428d81a3"
      },
      "source": [
        "try:\n",
        "  from google.colab import files\n",
        "  files.upload()\n",
        "  input_texts = []\n",
        "  target_texts = []\n",
        "  text_files = glob.glob('*.txt')\n",
        "  for line in open(text_files[0]):\n",
        "    line = line.rstrip()\n",
        "    if not line:\n",
        "      continue \n",
        "    input_line = '<sos> ' + line \n",
        "    target_line = line + ' <eos>'\n",
        "\n",
        "    input_texts.append(input_line)\n",
        "    target_texts.append(target_line)\n",
        "  all_lines = input_texts + target_texts\n",
        "except Exception as ex:\n",
        "  print(ex)"
      ],
      "execution_count": 5,
      "outputs": [
        {
          "output_type": "display_data",
          "data": {
            "text/html": [
              "\n",
              "     <input type=\"file\" id=\"files-c2375686-a651-4f55-a280-7afb25154e5a\" name=\"files[]\" multiple disabled />\n",
              "     <output id=\"result-c2375686-a651-4f55-a280-7afb25154e5a\">\n",
              "      Upload widget is only available when the cell has been executed in the\n",
              "      current browser session. Please rerun this cell to enable.\n",
              "      </output>\n",
              "      <script src=\"/nbextensions/google.colab/files.js\"></script> "
            ],
            "text/plain": [
              "<IPython.core.display.HTML object>"
            ]
          },
          "metadata": {
            "tags": []
          }
        },
        {
          "output_type": "stream",
          "text": [
            "Saving poemsofrobertfro029898mbp_djvu.txt to poemsofrobertfro029898mbp_djvu.txt\n"
          ],
          "name": "stdout"
        }
      ]
    },
    {
      "cell_type": "code",
      "metadata": {
        "id": "HRcQ7grYU31k",
        "colab_type": "code",
        "colab": {}
      },
      "source": [
        "tokenizer = Tokenizer(num_words=MAX_VOCAB_SIZE,filters='')"
      ],
      "execution_count": 0,
      "outputs": []
    },
    {
      "cell_type": "code",
      "metadata": {
        "id": "WVrfroqGVCNr",
        "colab_type": "code",
        "colab": {}
      },
      "source": [
        "tokenizer.fit_on_texts(all_lines)"
      ],
      "execution_count": 0,
      "outputs": []
    },
    {
      "cell_type": "code",
      "metadata": {
        "id": "pTRJSbvwVzCf",
        "colab_type": "code",
        "colab": {}
      },
      "source": [
        "input_sequences = tokenizer.texts_to_sequences(input_texts)\n",
        "target_sequences = tokenizer.texts_to_sequences(target_texts)"
      ],
      "execution_count": 0,
      "outputs": []
    },
    {
      "cell_type": "code",
      "metadata": {
        "id": "rfqV36N9WCCh",
        "colab_type": "code",
        "colab": {}
      },
      "source": [
        "max_sequence_length_from_data = max(len(s) for s in input_sequences)"
      ],
      "execution_count": 0,
      "outputs": []
    },
    {
      "cell_type": "code",
      "metadata": {
        "id": "UXxutggiWDaT",
        "colab_type": "code",
        "colab": {}
      },
      "source": [
        "word2idx = tokenizer.word_index"
      ],
      "execution_count": 0,
      "outputs": []
    },
    {
      "cell_type": "code",
      "metadata": {
        "id": "sRbG2kkWWrSN",
        "colab_type": "code",
        "outputId": "e1288f03-bb5f-4a42-c445-ca5d6ffa1864",
        "colab": {
          "base_uri": "https://localhost:8080/",
          "height": 34
        }
      },
      "source": [
        "print('Found {} unique words'.format(len(word2idx)))"
      ],
      "execution_count": 11,
      "outputs": [
        {
          "output_type": "stream",
          "text": [
            "Found 12331 unique words\n"
          ],
          "name": "stdout"
        }
      ]
    },
    {
      "cell_type": "code",
      "metadata": {
        "id": "gJ-GXiF7WxFJ",
        "colab_type": "code",
        "colab": {}
      },
      "source": [
        "max_sequence_length = min(max_sequence_length_from_data, MAX_SEQUENCE_LENGTH)"
      ],
      "execution_count": 0,
      "outputs": []
    },
    {
      "cell_type": "code",
      "metadata": {
        "id": "Ub6ae8RxXgZi",
        "colab_type": "code",
        "outputId": "aed45f04-62bf-44a6-b0cc-35407ca6f966",
        "colab": {
          "base_uri": "https://localhost:8080/",
          "height": 34
        }
      },
      "source": [
        "input_sequences = pad_sequences(input_sequences, maxlen=max_sequence_length, padding='post')\n",
        "target_sequences = pad_sequences(target_sequences, maxlen=max_sequence_length, padding='post')\n",
        "print(f'Shape of data tensor {input_sequences.shape}')"
      ],
      "execution_count": 13,
      "outputs": [
        {
          "output_type": "stream",
          "text": [
            "Shape of data tensor (9684, 14)\n"
          ],
          "name": "stdout"
        }
      ]
    },
    {
      "cell_type": "code",
      "metadata": {
        "id": "fR1t9LhKX2O2",
        "colab_type": "code",
        "colab": {
          "base_uri": "https://localhost:8080/",
          "height": 1000
        },
        "outputId": "e0feabb4-c4b8-448b-c5f5-8c8082145ac6"
      },
      "source": [
        "import keras\n",
        "\n",
        "# load in pretrained word vectors\n",
        "import urllib\n",
        "urllib.request.urlretrieve(\"https://github.com/kmr0877/IMDB-Sentiment-Classification-CBOW-Model/raw/master/glove.6B.50d.txt.gz\",filename=\"glove.6B.50d.txt.gz\")\n",
        "\n",
        "import gzip\n",
        "import shutil\n",
        "with gzip.open('glove.6B.50d.txt.gz', 'rb') as f_in:\n",
        "    with open('glove.6B.50d.txt', 'wb') as f_out:\n",
        "        shutil.copyfileobj(f_in, f_out)\n",
        "\n",
        "!ls -GFlash --color\n",
        "\n",
        "# !rm -r poemsofrobertfro029898mbp_djvu\\ \\(1\\).txt\n",
        "\n",
        "word2vec = {}\n",
        "with open('glove.6B.50d.txt') as f:\n",
        "  for line in f:\n",
        "    values = line.split()\n",
        "    word = values[0]\n",
        "    vec = np.asarray(values[1:],dtype='float32')\n",
        "    word2vec[word] = vec\n",
        "print(f\"Found {len(word2vec)} word vectors\")\n",
        "\n",
        "print('Filling pretrained embeddings...')\n",
        "num_words = min(MAX_VOCAB_SIZE, len(word2idx)+1)\n",
        "embedding_matrix = np.zeros((num_words, EMBEDDING_DIM))\n",
        "for word, i in word2idx.items():\n",
        "  if i < MAX_VOCAB_SIZE:\n",
        "    embedding_vector = word2vec.get(word)\n",
        "    if embedding_vector is not None:\n",
        "      embedding_matrix[i] = embedding_vector      \n",
        "\n",
        "one_hot_targets = np.zeros((len(input_sequences), max_sequence_length, num_words))\n",
        "for i, target_sequences in enumerate(target_sequences):\n",
        "  for t, word in enumerate(target_sequences):\n",
        "    if word > 0:\n",
        "      one_hot_targets[i, t, word] = 1\n",
        "\n",
        "embedding_layer = Embedding(num_words, \n",
        "                            EMBEDDING_DIM,\n",
        "                            weights=[embedding_matrix]\n",
        "                            )\n",
        "\n",
        "input_ = Input(shape=(max_sequence_length,))\n",
        "initial_h = Input(shape=(LATENT_DIM,))\n",
        "initial_c = Input(shape=(LATENT_DIM,))\n",
        "x = embedding_layer(input_)\n",
        "lstm = LSTM(LATENT_DIM, return_sequences=True, return_state=True)\n",
        "x, _, _ = lstm(x, initial_state=[initial_h,initial_c])\n",
        "dense = Dense(num_words, activation='softmax')\n",
        "output = dense(x)\n",
        "\n",
        "model = Model([input_, initial_h, initial_c], output)\n",
        "model.compile(loss='categorical_crossentropy', optimizer=Adam(lr=0.01), metrics=[\"accuracy\"])\n",
        "\n",
        "print('Training model..')\n",
        "z = np.zeros((len(input_sequences), LATENT_DIM))\n",
        "r = model.fit([input_sequences, z, z],\n",
        "          one_hot_targets,\n",
        "          batch_size=BATCH_SIZE,\n",
        "          epochs=EPOCHS,\n",
        "          validation_split=VALIDATION_SPLIT)"
      ],
      "execution_count": 14,
      "outputs": [
        {
          "output_type": "stream",
          "text": [
            "total 230M\n",
            "4.0K drwxr-xr-x 1 root 4.0K Jan 19 13:17 \u001b[0m\u001b[01;34m.\u001b[0m/\n",
            "4.0K drwxr-xr-x 1 root 4.0K Jan 19 13:15 \u001b[01;34m..\u001b[0m/\n",
            "4.0K drwxr-xr-x 1 root 4.0K Jan 13 16:38 \u001b[01;34m.config\u001b[0m/\n",
            "164M -rw-r--r-- 1 root 164M Jan 19 13:17 glove.6B.50d.txt\n",
            " 66M -rw-r--r-- 1 root  66M Jan 19 13:17 glove.6B.50d.txt.gz\n",
            "356K -rw-r--r-- 1 root 355K Jan 19 13:17 poemsofrobertfro029898mbp_djvu.txt\n",
            "4.0K drwxr-xr-x 1 root 4.0K Jan 13 16:38 \u001b[01;34msample_data\u001b[0m/\n",
            "Found 400000 word vectors\n",
            "Filling pretrained embeddings...\n",
            "WARNING:tensorflow:From /usr/local/lib/python3.6/dist-packages/keras/backend/tensorflow_backend.py:66: The name tf.get_default_graph is deprecated. Please use tf.compat.v1.get_default_graph instead.\n",
            "\n",
            "WARNING:tensorflow:From /usr/local/lib/python3.6/dist-packages/keras/backend/tensorflow_backend.py:541: The name tf.placeholder is deprecated. Please use tf.compat.v1.placeholder instead.\n",
            "\n",
            "WARNING:tensorflow:From /usr/local/lib/python3.6/dist-packages/keras/backend/tensorflow_backend.py:4432: The name tf.random_uniform is deprecated. Please use tf.random.uniform instead.\n",
            "\n",
            "WARNING:tensorflow:From /usr/local/lib/python3.6/dist-packages/keras/backend/tensorflow_backend.py:190: The name tf.get_default_session is deprecated. Please use tf.compat.v1.get_default_session instead.\n",
            "\n",
            "WARNING:tensorflow:From /usr/local/lib/python3.6/dist-packages/keras/backend/tensorflow_backend.py:197: The name tf.ConfigProto is deprecated. Please use tf.compat.v1.ConfigProto instead.\n",
            "\n",
            "WARNING:tensorflow:From /usr/local/lib/python3.6/dist-packages/keras/backend/tensorflow_backend.py:203: The name tf.Session is deprecated. Please use tf.compat.v1.Session instead.\n",
            "\n",
            "WARNING:tensorflow:From /usr/local/lib/python3.6/dist-packages/keras/backend/tensorflow_backend.py:207: The name tf.global_variables is deprecated. Please use tf.compat.v1.global_variables instead.\n",
            "\n",
            "WARNING:tensorflow:From /usr/local/lib/python3.6/dist-packages/keras/backend/tensorflow_backend.py:216: The name tf.is_variable_initialized is deprecated. Please use tf.compat.v1.is_variable_initialized instead.\n",
            "\n",
            "WARNING:tensorflow:From /usr/local/lib/python3.6/dist-packages/keras/backend/tensorflow_backend.py:223: The name tf.variables_initializer is deprecated. Please use tf.compat.v1.variables_initializer instead.\n",
            "\n",
            "WARNING:tensorflow:From /usr/local/lib/python3.6/dist-packages/keras/optimizers.py:793: The name tf.train.Optimizer is deprecated. Please use tf.compat.v1.train.Optimizer instead.\n",
            "\n",
            "WARNING:tensorflow:From /usr/local/lib/python3.6/dist-packages/keras/backend/tensorflow_backend.py:3576: The name tf.log is deprecated. Please use tf.math.log instead.\n",
            "\n",
            "Training model..\n",
            "WARNING:tensorflow:From /usr/local/lib/python3.6/dist-packages/tensorflow_core/python/ops/math_grad.py:1424: where (from tensorflow.python.ops.array_ops) is deprecated and will be removed in a future version.\n",
            "Instructions for updating:\n",
            "Use tf.where in 2.0, which has the same broadcast rule as np.where\n",
            "WARNING:tensorflow:From /usr/local/lib/python3.6/dist-packages/keras/backend/tensorflow_backend.py:1033: The name tf.assign_add is deprecated. Please use tf.compat.v1.assign_add instead.\n",
            "\n",
            "WARNING:tensorflow:From /usr/local/lib/python3.6/dist-packages/keras/backend/tensorflow_backend.py:1020: The name tf.assign is deprecated. Please use tf.compat.v1.assign instead.\n",
            "\n",
            "Train on 6778 samples, validate on 2906 samples\n",
            "Epoch 1/200\n",
            "6778/6778 [==============================] - 5s 750us/step - loss: 3.2445 - acc: 0.0718 - val_loss: 2.5327 - val_acc: 0.0736\n",
            "Epoch 2/200\n",
            "6778/6778 [==============================] - 3s 412us/step - loss: 2.8776 - acc: 0.0786 - val_loss: 2.4287 - val_acc: 0.0735\n",
            "Epoch 3/200\n",
            "6778/6778 [==============================] - 3s 416us/step - loss: 2.7602 - acc: 0.0855 - val_loss: 2.3773 - val_acc: 0.0763\n",
            "Epoch 4/200\n",
            "6778/6778 [==============================] - 3s 415us/step - loss: 2.6762 - acc: 0.0888 - val_loss: 2.3533 - val_acc: 0.0753\n",
            "Epoch 5/200\n",
            "6778/6778 [==============================] - 3s 412us/step - loss: 2.6104 - acc: 0.0914 - val_loss: 2.3346 - val_acc: 0.0765\n",
            "Epoch 6/200\n",
            "6778/6778 [==============================] - 3s 416us/step - loss: 2.5515 - acc: 0.0942 - val_loss: 2.3195 - val_acc: 0.0774\n",
            "Epoch 7/200\n",
            "6778/6778 [==============================] - 3s 412us/step - loss: 2.4950 - acc: 0.0963 - val_loss: 2.3156 - val_acc: 0.0778\n",
            "Epoch 8/200\n",
            "6778/6778 [==============================] - 3s 416us/step - loss: 2.4444 - acc: 0.0985 - val_loss: 2.3130 - val_acc: 0.0766\n",
            "Epoch 9/200\n",
            "6778/6778 [==============================] - 3s 414us/step - loss: 2.3972 - acc: 0.1019 - val_loss: 2.3160 - val_acc: 0.0790\n",
            "Epoch 10/200\n",
            "6778/6778 [==============================] - 3s 414us/step - loss: 2.3535 - acc: 0.1044 - val_loss: 2.3195 - val_acc: 0.0772\n",
            "Epoch 11/200\n",
            "6778/6778 [==============================] - 3s 412us/step - loss: 2.3130 - acc: 0.1059 - val_loss: 2.3270 - val_acc: 0.0765\n",
            "Epoch 12/200\n",
            "6778/6778 [==============================] - 3s 415us/step - loss: 2.2717 - acc: 0.1089 - val_loss: 2.3399 - val_acc: 0.0787\n",
            "Epoch 13/200\n",
            "6778/6778 [==============================] - 3s 423us/step - loss: 2.2316 - acc: 0.1113 - val_loss: 2.3430 - val_acc: 0.0789\n",
            "Epoch 14/200\n",
            "6778/6778 [==============================] - 3s 414us/step - loss: 2.1944 - acc: 0.1140 - val_loss: 2.3530 - val_acc: 0.0745\n",
            "Epoch 15/200\n",
            "6778/6778 [==============================] - 3s 412us/step - loss: 2.1564 - acc: 0.1164 - val_loss: 2.3614 - val_acc: 0.0770\n",
            "Epoch 16/200\n",
            "6778/6778 [==============================] - 3s 416us/step - loss: 2.1170 - acc: 0.1190 - val_loss: 2.3727 - val_acc: 0.0764\n",
            "Epoch 17/200\n",
            "6778/6778 [==============================] - 3s 412us/step - loss: 2.0804 - acc: 0.1226 - val_loss: 2.3879 - val_acc: 0.0759\n",
            "Epoch 18/200\n",
            "6778/6778 [==============================] - 3s 414us/step - loss: 2.0442 - acc: 0.1244 - val_loss: 2.4004 - val_acc: 0.0740\n",
            "Epoch 19/200\n",
            "6778/6778 [==============================] - 3s 412us/step - loss: 2.0080 - acc: 0.1283 - val_loss: 2.4113 - val_acc: 0.0755\n",
            "Epoch 20/200\n",
            "6778/6778 [==============================] - 3s 413us/step - loss: 1.9721 - acc: 0.1321 - val_loss: 2.4258 - val_acc: 0.0736\n",
            "Epoch 21/200\n",
            "6778/6778 [==============================] - 3s 415us/step - loss: 1.9405 - acc: 0.1348 - val_loss: 2.4380 - val_acc: 0.0752\n",
            "Epoch 22/200\n",
            "6778/6778 [==============================] - 3s 413us/step - loss: 1.9062 - acc: 0.1377 - val_loss: 2.4503 - val_acc: 0.0747\n",
            "Epoch 23/200\n",
            "6778/6778 [==============================] - 3s 416us/step - loss: 1.8715 - acc: 0.1415 - val_loss: 2.4621 - val_acc: 0.0736\n",
            "Epoch 24/200\n",
            "6778/6778 [==============================] - 3s 415us/step - loss: 1.8378 - acc: 0.1456 - val_loss: 2.4765 - val_acc: 0.0734\n",
            "Epoch 25/200\n",
            "6778/6778 [==============================] - 3s 414us/step - loss: 1.8034 - acc: 0.1491 - val_loss: 2.4913 - val_acc: 0.0736\n",
            "Epoch 26/200\n",
            "6778/6778 [==============================] - 3s 409us/step - loss: 1.7720 - acc: 0.1540 - val_loss: 2.5064 - val_acc: 0.0744\n",
            "Epoch 27/200\n",
            "6778/6778 [==============================] - 3s 412us/step - loss: 1.7430 - acc: 0.1575 - val_loss: 2.5197 - val_acc: 0.0736\n",
            "Epoch 28/200\n",
            "6778/6778 [==============================] - 3s 413us/step - loss: 1.7119 - acc: 0.1625 - val_loss: 2.5335 - val_acc: 0.0729\n",
            "Epoch 29/200\n",
            "6778/6778 [==============================] - 3s 416us/step - loss: 1.6824 - acc: 0.1668 - val_loss: 2.5521 - val_acc: 0.0731\n",
            "Epoch 30/200\n",
            "6778/6778 [==============================] - 3s 422us/step - loss: 1.6556 - acc: 0.1702 - val_loss: 2.5639 - val_acc: 0.0715\n",
            "Epoch 31/200\n",
            "6778/6778 [==============================] - 3s 421us/step - loss: 1.6289 - acc: 0.1753 - val_loss: 2.5719 - val_acc: 0.0738\n",
            "Epoch 32/200\n",
            "6778/6778 [==============================] - 3s 417us/step - loss: 1.6012 - acc: 0.1798 - val_loss: 2.5931 - val_acc: 0.0729\n",
            "Epoch 33/200\n",
            "6778/6778 [==============================] - 3s 417us/step - loss: 1.5767 - acc: 0.1836 - val_loss: 2.6022 - val_acc: 0.0729\n",
            "Epoch 34/200\n",
            "6778/6778 [==============================] - 3s 412us/step - loss: 1.5508 - acc: 0.1879 - val_loss: 2.6152 - val_acc: 0.0716\n",
            "Epoch 35/200\n",
            "6778/6778 [==============================] - 3s 415us/step - loss: 1.5274 - acc: 0.1926 - val_loss: 2.6328 - val_acc: 0.0737\n",
            "Epoch 36/200\n",
            "6778/6778 [==============================] - 3s 411us/step - loss: 1.5014 - acc: 0.1976 - val_loss: 2.6427 - val_acc: 0.0726\n",
            "Epoch 37/200\n",
            "6778/6778 [==============================] - 3s 417us/step - loss: 1.4818 - acc: 0.2013 - val_loss: 2.6534 - val_acc: 0.0729\n",
            "Epoch 38/200\n",
            "6778/6778 [==============================] - 3s 414us/step - loss: 1.4597 - acc: 0.2055 - val_loss: 2.6654 - val_acc: 0.0717\n",
            "Epoch 39/200\n",
            "6778/6778 [==============================] - 3s 412us/step - loss: 1.4385 - acc: 0.2092 - val_loss: 2.6808 - val_acc: 0.0714\n",
            "Epoch 40/200\n",
            "6778/6778 [==============================] - 3s 411us/step - loss: 1.4189 - acc: 0.2135 - val_loss: 2.6967 - val_acc: 0.0723\n",
            "Epoch 41/200\n",
            "6778/6778 [==============================] - 3s 415us/step - loss: 1.4011 - acc: 0.2170 - val_loss: 2.7135 - val_acc: 0.0716\n",
            "Epoch 42/200\n",
            "6778/6778 [==============================] - 3s 409us/step - loss: 1.3852 - acc: 0.2209 - val_loss: 2.7233 - val_acc: 0.0728\n",
            "Epoch 43/200\n",
            "6778/6778 [==============================] - 3s 415us/step - loss: 1.3677 - acc: 0.2235 - val_loss: 2.7320 - val_acc: 0.0714\n",
            "Epoch 44/200\n",
            "6778/6778 [==============================] - 3s 412us/step - loss: 1.3483 - acc: 0.2279 - val_loss: 2.7464 - val_acc: 0.0716\n",
            "Epoch 45/200\n",
            "6778/6778 [==============================] - 3s 412us/step - loss: 1.3327 - acc: 0.2313 - val_loss: 2.7579 - val_acc: 0.0715\n",
            "Epoch 46/200\n",
            "6778/6778 [==============================] - 3s 414us/step - loss: 1.3185 - acc: 0.2342 - val_loss: 2.7715 - val_acc: 0.0721\n",
            "Epoch 47/200\n",
            "6778/6778 [==============================] - 3s 416us/step - loss: 1.3053 - acc: 0.2367 - val_loss: 2.7820 - val_acc: 0.0709\n",
            "Epoch 48/200\n",
            "6778/6778 [==============================] - 3s 412us/step - loss: 1.2909 - acc: 0.2390 - val_loss: 2.7948 - val_acc: 0.0706\n",
            "Epoch 49/200\n",
            "6778/6778 [==============================] - 3s 413us/step - loss: 1.2760 - acc: 0.2424 - val_loss: 2.8047 - val_acc: 0.0709\n",
            "Epoch 50/200\n",
            "6778/6778 [==============================] - 3s 410us/step - loss: 1.2622 - acc: 0.2460 - val_loss: 2.8160 - val_acc: 0.0707\n",
            "Epoch 51/200\n",
            "6778/6778 [==============================] - 3s 412us/step - loss: 1.2499 - acc: 0.2473 - val_loss: 2.8267 - val_acc: 0.0705\n",
            "Epoch 52/200\n",
            "6778/6778 [==============================] - 3s 419us/step - loss: 1.2385 - acc: 0.2508 - val_loss: 2.8388 - val_acc: 0.0707\n",
            "Epoch 53/200\n",
            "6778/6778 [==============================] - 3s 412us/step - loss: 1.2260 - acc: 0.2539 - val_loss: 2.8464 - val_acc: 0.0725\n",
            "Epoch 54/200\n",
            "6778/6778 [==============================] - 3s 415us/step - loss: 1.2160 - acc: 0.2550 - val_loss: 2.8588 - val_acc: 0.0705\n",
            "Epoch 55/200\n",
            "6778/6778 [==============================] - 3s 411us/step - loss: 1.2047 - acc: 0.2576 - val_loss: 2.8665 - val_acc: 0.0700\n",
            "Epoch 56/200\n",
            "6778/6778 [==============================] - 3s 418us/step - loss: 1.1909 - acc: 0.2608 - val_loss: 2.8847 - val_acc: 0.0692\n",
            "Epoch 57/200\n",
            "6778/6778 [==============================] - 3s 413us/step - loss: 1.1816 - acc: 0.2628 - val_loss: 2.8886 - val_acc: 0.0702\n",
            "Epoch 58/200\n",
            "6778/6778 [==============================] - 3s 411us/step - loss: 1.1735 - acc: 0.2646 - val_loss: 2.8998 - val_acc: 0.0700\n",
            "Epoch 59/200\n",
            "6778/6778 [==============================] - 3s 413us/step - loss: 1.1631 - acc: 0.2672 - val_loss: 2.9151 - val_acc: 0.0689\n",
            "Epoch 60/200\n",
            "6778/6778 [==============================] - 3s 412us/step - loss: 1.1537 - acc: 0.2684 - val_loss: 2.9151 - val_acc: 0.0693\n",
            "Epoch 61/200\n",
            "6778/6778 [==============================] - 3s 413us/step - loss: 1.1458 - acc: 0.2709 - val_loss: 2.9290 - val_acc: 0.0696\n",
            "Epoch 62/200\n",
            "6778/6778 [==============================] - 3s 417us/step - loss: 1.1373 - acc: 0.2717 - val_loss: 2.9386 - val_acc: 0.0676\n",
            "Epoch 63/200\n",
            "6778/6778 [==============================] - 3s 417us/step - loss: 1.1295 - acc: 0.2736 - val_loss: 2.9480 - val_acc: 0.0702\n",
            "Epoch 64/200\n",
            "6778/6778 [==============================] - 3s 415us/step - loss: 1.1200 - acc: 0.2761 - val_loss: 2.9594 - val_acc: 0.0688\n",
            "Epoch 65/200\n",
            "6778/6778 [==============================] - 3s 414us/step - loss: 1.1122 - acc: 0.2778 - val_loss: 2.9683 - val_acc: 0.0675\n",
            "Epoch 66/200\n",
            "6778/6778 [==============================] - 3s 409us/step - loss: 1.1046 - acc: 0.2791 - val_loss: 2.9767 - val_acc: 0.0676\n",
            "Epoch 67/200\n",
            "6778/6778 [==============================] - 3s 416us/step - loss: 1.0975 - acc: 0.2812 - val_loss: 2.9867 - val_acc: 0.0674\n",
            "Epoch 68/200\n",
            "6778/6778 [==============================] - 3s 413us/step - loss: 1.0916 - acc: 0.2827 - val_loss: 2.9897 - val_acc: 0.0682\n",
            "Epoch 69/200\n",
            "6778/6778 [==============================] - 3s 412us/step - loss: 1.0859 - acc: 0.2838 - val_loss: 3.0046 - val_acc: 0.0690\n",
            "Epoch 70/200\n",
            "6778/6778 [==============================] - 3s 413us/step - loss: 1.0787 - acc: 0.2850 - val_loss: 3.0128 - val_acc: 0.0674\n",
            "Epoch 71/200\n",
            "6778/6778 [==============================] - 3s 411us/step - loss: 1.0716 - acc: 0.2861 - val_loss: 3.0187 - val_acc: 0.0681\n",
            "Epoch 72/200\n",
            "6778/6778 [==============================] - 3s 413us/step - loss: 1.0665 - acc: 0.2876 - val_loss: 3.0255 - val_acc: 0.0679\n",
            "Epoch 73/200\n",
            "6778/6778 [==============================] - 3s 417us/step - loss: 1.0607 - acc: 0.2891 - val_loss: 3.0377 - val_acc: 0.0677\n",
            "Epoch 74/200\n",
            "6778/6778 [==============================] - 3s 415us/step - loss: 1.0532 - acc: 0.2900 - val_loss: 3.0458 - val_acc: 0.0669\n",
            "Epoch 75/200\n",
            "6778/6778 [==============================] - 3s 410us/step - loss: 1.0480 - acc: 0.2912 - val_loss: 3.0474 - val_acc: 0.0667\n",
            "Epoch 76/200\n",
            "6778/6778 [==============================] - 3s 412us/step - loss: 1.0434 - acc: 0.2928 - val_loss: 3.0575 - val_acc: 0.0673\n",
            "Epoch 77/200\n",
            "6778/6778 [==============================] - 3s 410us/step - loss: 1.0359 - acc: 0.2942 - val_loss: 3.0663 - val_acc: 0.0676\n",
            "Epoch 78/200\n",
            "6778/6778 [==============================] - 3s 413us/step - loss: 1.0286 - acc: 0.2958 - val_loss: 3.0729 - val_acc: 0.0679\n",
            "Epoch 79/200\n",
            "6778/6778 [==============================] - 3s 406us/step - loss: 1.0236 - acc: 0.2968 - val_loss: 3.0828 - val_acc: 0.0674\n",
            "Epoch 80/200\n",
            "6778/6778 [==============================] - 3s 416us/step - loss: 1.0201 - acc: 0.2981 - val_loss: 3.0878 - val_acc: 0.0674\n",
            "Epoch 81/200\n",
            "6778/6778 [==============================] - 3s 417us/step - loss: 1.0158 - acc: 0.2992 - val_loss: 3.0992 - val_acc: 0.0669\n",
            "Epoch 82/200\n",
            "6778/6778 [==============================] - 3s 415us/step - loss: 1.0105 - acc: 0.2994 - val_loss: 3.1030 - val_acc: 0.0671\n",
            "Epoch 83/200\n",
            "6778/6778 [==============================] - 3s 411us/step - loss: 1.0063 - acc: 0.3009 - val_loss: 3.1098 - val_acc: 0.0667\n",
            "Epoch 84/200\n",
            "6778/6778 [==============================] - 3s 413us/step - loss: 1.0030 - acc: 0.3010 - val_loss: 3.1186 - val_acc: 0.0644\n",
            "Epoch 85/200\n",
            "6778/6778 [==============================] - 3s 412us/step - loss: 1.0012 - acc: 0.3013 - val_loss: 3.1223 - val_acc: 0.0656\n",
            "Epoch 86/200\n",
            "6778/6778 [==============================] - 3s 414us/step - loss: 0.9981 - acc: 0.3020 - val_loss: 3.1274 - val_acc: 0.0659\n",
            "Epoch 87/200\n",
            "6778/6778 [==============================] - 3s 409us/step - loss: 0.9940 - acc: 0.3030 - val_loss: 3.1377 - val_acc: 0.0673\n",
            "Epoch 88/200\n",
            "6778/6778 [==============================] - 3s 414us/step - loss: 0.9887 - acc: 0.3041 - val_loss: 3.1456 - val_acc: 0.0666\n",
            "Epoch 89/200\n",
            "6778/6778 [==============================] - 3s 415us/step - loss: 0.9838 - acc: 0.3049 - val_loss: 3.1522 - val_acc: 0.0653\n",
            "Epoch 90/200\n",
            "6778/6778 [==============================] - 3s 412us/step - loss: 0.9797 - acc: 0.3066 - val_loss: 3.1626 - val_acc: 0.0662\n",
            "Epoch 91/200\n",
            "6778/6778 [==============================] - 3s 414us/step - loss: 0.9745 - acc: 0.3075 - val_loss: 3.1676 - val_acc: 0.0657\n",
            "Epoch 92/200\n",
            "6778/6778 [==============================] - 3s 414us/step - loss: 0.9705 - acc: 0.3085 - val_loss: 3.1745 - val_acc: 0.0659\n",
            "Epoch 93/200\n",
            "6778/6778 [==============================] - 3s 415us/step - loss: 0.9650 - acc: 0.3093 - val_loss: 3.1771 - val_acc: 0.0666\n",
            "Epoch 94/200\n",
            "6778/6778 [==============================] - 3s 413us/step - loss: 0.9614 - acc: 0.3105 - val_loss: 3.1842 - val_acc: 0.0660\n",
            "Epoch 95/200\n",
            "6778/6778 [==============================] - 3s 410us/step - loss: 0.9586 - acc: 0.3105 - val_loss: 3.1912 - val_acc: 0.0667\n",
            "Epoch 96/200\n",
            "6778/6778 [==============================] - 3s 414us/step - loss: 0.9585 - acc: 0.3104 - val_loss: 3.1989 - val_acc: 0.0654\n",
            "Epoch 97/200\n",
            "6778/6778 [==============================] - 3s 413us/step - loss: 0.9557 - acc: 0.3106 - val_loss: 3.2061 - val_acc: 0.0655\n",
            "Epoch 98/200\n",
            "6778/6778 [==============================] - 3s 411us/step - loss: 0.9503 - acc: 0.3126 - val_loss: 3.2070 - val_acc: 0.0658\n",
            "Epoch 99/200\n",
            "6778/6778 [==============================] - 3s 416us/step - loss: 0.9472 - acc: 0.3129 - val_loss: 3.2147 - val_acc: 0.0648\n",
            "Epoch 100/200\n",
            "6778/6778 [==============================] - 3s 410us/step - loss: 0.9447 - acc: 0.3142 - val_loss: 3.2201 - val_acc: 0.0665\n",
            "Epoch 101/200\n",
            "6778/6778 [==============================] - 3s 413us/step - loss: 0.9443 - acc: 0.3135 - val_loss: 3.2239 - val_acc: 0.0656\n",
            "Epoch 102/200\n",
            "6778/6778 [==============================] - 3s 408us/step - loss: 0.9431 - acc: 0.3134 - val_loss: 3.2282 - val_acc: 0.0657\n",
            "Epoch 103/200\n",
            "6778/6778 [==============================] - 3s 410us/step - loss: 0.9418 - acc: 0.3133 - val_loss: 3.2410 - val_acc: 0.0650\n",
            "Epoch 104/200\n",
            "6778/6778 [==============================] - 3s 411us/step - loss: 0.9355 - acc: 0.3154 - val_loss: 3.2447 - val_acc: 0.0647\n",
            "Epoch 105/200\n",
            "6778/6778 [==============================] - 3s 415us/step - loss: 0.9296 - acc: 0.3166 - val_loss: 3.2546 - val_acc: 0.0653\n",
            "Epoch 106/200\n",
            "6778/6778 [==============================] - 3s 415us/step - loss: 0.9257 - acc: 0.3178 - val_loss: 3.2585 - val_acc: 0.0657\n",
            "Epoch 107/200\n",
            "6778/6778 [==============================] - 3s 414us/step - loss: 0.9226 - acc: 0.3188 - val_loss: 3.2617 - val_acc: 0.0673\n",
            "Epoch 108/200\n",
            "6778/6778 [==============================] - 3s 416us/step - loss: 0.9198 - acc: 0.3184 - val_loss: 3.2686 - val_acc: 0.0652\n",
            "Epoch 109/200\n",
            "6778/6778 [==============================] - 3s 408us/step - loss: 0.9177 - acc: 0.3186 - val_loss: 3.2795 - val_acc: 0.0642\n",
            "Epoch 110/200\n",
            "6778/6778 [==============================] - 3s 413us/step - loss: 0.9140 - acc: 0.3205 - val_loss: 3.2769 - val_acc: 0.0652\n",
            "Epoch 111/200\n",
            "6778/6778 [==============================] - 3s 413us/step - loss: 0.9106 - acc: 0.3209 - val_loss: 3.2794 - val_acc: 0.0658\n",
            "Epoch 112/200\n",
            "6778/6778 [==============================] - 3s 414us/step - loss: 0.9093 - acc: 0.3212 - val_loss: 3.2882 - val_acc: 0.0648\n",
            "Epoch 113/200\n",
            "6778/6778 [==============================] - 3s 412us/step - loss: 0.9068 - acc: 0.3217 - val_loss: 3.2991 - val_acc: 0.0656\n",
            "Epoch 114/200\n",
            "6778/6778 [==============================] - 3s 407us/step - loss: 0.9043 - acc: 0.3218 - val_loss: 3.3045 - val_acc: 0.0648\n",
            "Epoch 115/200\n",
            "6778/6778 [==============================] - 3s 411us/step - loss: 0.9019 - acc: 0.3227 - val_loss: 3.3063 - val_acc: 0.0664\n",
            "Epoch 116/200\n",
            "6778/6778 [==============================] - 3s 416us/step - loss: 0.8995 - acc: 0.3227 - val_loss: 3.3109 - val_acc: 0.0653\n",
            "Epoch 117/200\n",
            "6778/6778 [==============================] - 3s 412us/step - loss: 0.8987 - acc: 0.3238 - val_loss: 3.3184 - val_acc: 0.0645\n",
            "Epoch 118/200\n",
            "6778/6778 [==============================] - 3s 419us/step - loss: 0.8996 - acc: 0.3223 - val_loss: 3.3258 - val_acc: 0.0658\n",
            "Epoch 119/200\n",
            "6778/6778 [==============================] - 3s 419us/step - loss: 0.9002 - acc: 0.3221 - val_loss: 3.3246 - val_acc: 0.0659\n",
            "Epoch 120/200\n",
            "6778/6778 [==============================] - 3s 412us/step - loss: 0.9022 - acc: 0.3218 - val_loss: 3.3364 - val_acc: 0.0642\n",
            "Epoch 121/200\n",
            "6778/6778 [==============================] - 3s 415us/step - loss: 0.8989 - acc: 0.3226 - val_loss: 3.3332 - val_acc: 0.0644\n",
            "Epoch 122/200\n",
            "6778/6778 [==============================] - 3s 413us/step - loss: 0.8951 - acc: 0.3222 - val_loss: 3.3385 - val_acc: 0.0658\n",
            "Epoch 123/200\n",
            "6778/6778 [==============================] - 3s 415us/step - loss: 0.8879 - acc: 0.3252 - val_loss: 3.3465 - val_acc: 0.0653\n",
            "Epoch 124/200\n",
            "6778/6778 [==============================] - 3s 407us/step - loss: 0.8872 - acc: 0.3254 - val_loss: 3.3477 - val_acc: 0.0649\n",
            "Epoch 125/200\n",
            "6778/6778 [==============================] - 3s 410us/step - loss: 0.8885 - acc: 0.3247 - val_loss: 3.3573 - val_acc: 0.0648\n",
            "Epoch 126/200\n",
            "6778/6778 [==============================] - 3s 412us/step - loss: 0.8893 - acc: 0.3240 - val_loss: 3.3617 - val_acc: 0.0649\n",
            "Epoch 127/200\n",
            "6778/6778 [==============================] - 3s 417us/step - loss: 0.8887 - acc: 0.3239 - val_loss: 3.3674 - val_acc: 0.0634\n",
            "Epoch 128/200\n",
            "6778/6778 [==============================] - 3s 412us/step - loss: 0.8872 - acc: 0.3247 - val_loss: 3.3663 - val_acc: 0.0652\n",
            "Epoch 129/200\n",
            "6778/6778 [==============================] - 3s 412us/step - loss: 0.8847 - acc: 0.3254 - val_loss: 3.3701 - val_acc: 0.0651\n",
            "Epoch 130/200\n",
            "6778/6778 [==============================] - 3s 414us/step - loss: 0.8785 - acc: 0.3266 - val_loss: 3.3725 - val_acc: 0.0671\n",
            "Epoch 131/200\n",
            "6778/6778 [==============================] - 3s 414us/step - loss: 0.8748 - acc: 0.3276 - val_loss: 3.3814 - val_acc: 0.0646\n",
            "Epoch 132/200\n",
            "6778/6778 [==============================] - 3s 418us/step - loss: 0.8710 - acc: 0.3288 - val_loss: 3.3878 - val_acc: 0.0651\n",
            "Epoch 133/200\n",
            "6778/6778 [==============================] - 3s 414us/step - loss: 0.8667 - acc: 0.3298 - val_loss: 3.3871 - val_acc: 0.0648\n",
            "Epoch 134/200\n",
            "6778/6778 [==============================] - 3s 409us/step - loss: 0.8651 - acc: 0.3299 - val_loss: 3.3906 - val_acc: 0.0654\n",
            "Epoch 135/200\n",
            "6778/6778 [==============================] - 3s 409us/step - loss: 0.8638 - acc: 0.3306 - val_loss: 3.3995 - val_acc: 0.0657\n",
            "Epoch 136/200\n",
            "6778/6778 [==============================] - 3s 412us/step - loss: 0.8635 - acc: 0.3298 - val_loss: 3.4058 - val_acc: 0.0646\n",
            "Epoch 137/200\n",
            "6778/6778 [==============================] - 3s 409us/step - loss: 0.8620 - acc: 0.3296 - val_loss: 3.4097 - val_acc: 0.0638\n",
            "Epoch 138/200\n",
            "6778/6778 [==============================] - 3s 413us/step - loss: 0.8602 - acc: 0.3303 - val_loss: 3.4100 - val_acc: 0.0648\n",
            "Epoch 139/200\n",
            "6778/6778 [==============================] - 3s 415us/step - loss: 0.8594 - acc: 0.3305 - val_loss: 3.4126 - val_acc: 0.0643\n",
            "Epoch 140/200\n",
            "6778/6778 [==============================] - 3s 420us/step - loss: 0.8570 - acc: 0.3314 - val_loss: 3.4144 - val_acc: 0.0645\n",
            "Epoch 141/200\n",
            "6778/6778 [==============================] - 3s 417us/step - loss: 0.8604 - acc: 0.3302 - val_loss: 3.4175 - val_acc: 0.0643\n",
            "Epoch 142/200\n",
            "6778/6778 [==============================] - 3s 426us/step - loss: 0.8592 - acc: 0.3303 - val_loss: 3.4256 - val_acc: 0.0650\n",
            "Epoch 143/200\n",
            "6778/6778 [==============================] - 3s 411us/step - loss: 0.8576 - acc: 0.3311 - val_loss: 3.4266 - val_acc: 0.0652\n",
            "Epoch 144/200\n",
            "6778/6778 [==============================] - 3s 409us/step - loss: 0.8521 - acc: 0.3322 - val_loss: 3.4345 - val_acc: 0.0650\n",
            "Epoch 145/200\n",
            "6778/6778 [==============================] - 3s 411us/step - loss: 0.8502 - acc: 0.3324 - val_loss: 3.4388 - val_acc: 0.0641\n",
            "Epoch 146/200\n",
            "6778/6778 [==============================] - 3s 412us/step - loss: 0.8488 - acc: 0.3332 - val_loss: 3.4439 - val_acc: 0.0647\n",
            "Epoch 147/200\n",
            "6778/6778 [==============================] - 3s 414us/step - loss: 0.8485 - acc: 0.3327 - val_loss: 3.4459 - val_acc: 0.0652\n",
            "Epoch 148/200\n",
            "6778/6778 [==============================] - 3s 415us/step - loss: 0.8460 - acc: 0.3329 - val_loss: 3.4506 - val_acc: 0.0648\n",
            "Epoch 149/200\n",
            "6778/6778 [==============================] - 3s 413us/step - loss: 0.8447 - acc: 0.3336 - val_loss: 3.4564 - val_acc: 0.0648\n",
            "Epoch 150/200\n",
            "6778/6778 [==============================] - 3s 417us/step - loss: 0.8435 - acc: 0.3343 - val_loss: 3.4572 - val_acc: 0.0644\n",
            "Epoch 151/200\n",
            "6778/6778 [==============================] - 3s 412us/step - loss: 0.8405 - acc: 0.3349 - val_loss: 3.4636 - val_acc: 0.0636\n",
            "Epoch 152/200\n",
            "6778/6778 [==============================] - 3s 411us/step - loss: 0.8378 - acc: 0.3355 - val_loss: 3.4758 - val_acc: 0.0626\n",
            "Epoch 153/200\n",
            "6778/6778 [==============================] - 3s 413us/step - loss: 0.8384 - acc: 0.3352 - val_loss: 3.4729 - val_acc: 0.0644\n",
            "Epoch 154/200\n",
            "6778/6778 [==============================] - 3s 412us/step - loss: 0.8363 - acc: 0.3355 - val_loss: 3.4859 - val_acc: 0.0633\n",
            "Epoch 155/200\n",
            "6778/6778 [==============================] - 3s 412us/step - loss: 0.8336 - acc: 0.3361 - val_loss: 3.4823 - val_acc: 0.0646\n",
            "Epoch 156/200\n",
            "6778/6778 [==============================] - 3s 414us/step - loss: 0.8326 - acc: 0.3360 - val_loss: 3.4775 - val_acc: 0.0661\n",
            "Epoch 157/200\n",
            "6778/6778 [==============================] - 3s 410us/step - loss: 0.8319 - acc: 0.3365 - val_loss: 3.4919 - val_acc: 0.0638\n",
            "Epoch 158/200\n",
            "6778/6778 [==============================] - 3s 414us/step - loss: 0.8317 - acc: 0.3368 - val_loss: 3.4896 - val_acc: 0.0646\n",
            "Epoch 159/200\n",
            "6778/6778 [==============================] - 3s 414us/step - loss: 0.8318 - acc: 0.3362 - val_loss: 3.4957 - val_acc: 0.0642\n",
            "Epoch 160/200\n",
            "6778/6778 [==============================] - 3s 410us/step - loss: 0.8335 - acc: 0.3355 - val_loss: 3.4959 - val_acc: 0.0641\n",
            "Epoch 161/200\n",
            "6778/6778 [==============================] - 3s 412us/step - loss: 0.8314 - acc: 0.3363 - val_loss: 3.5090 - val_acc: 0.0643\n",
            "Epoch 162/200\n",
            "6778/6778 [==============================] - 3s 414us/step - loss: 0.8310 - acc: 0.3355 - val_loss: 3.5042 - val_acc: 0.0664\n",
            "Epoch 163/200\n",
            "6778/6778 [==============================] - 3s 410us/step - loss: 0.8329 - acc: 0.3353 - val_loss: 3.5158 - val_acc: 0.0644\n",
            "Epoch 164/200\n",
            "6778/6778 [==============================] - 3s 412us/step - loss: 0.8323 - acc: 0.3351 - val_loss: 3.5138 - val_acc: 0.0638\n",
            "Epoch 165/200\n",
            "6778/6778 [==============================] - 3s 410us/step - loss: 0.8319 - acc: 0.3352 - val_loss: 3.5149 - val_acc: 0.0639\n",
            "Epoch 166/200\n",
            "6778/6778 [==============================] - 3s 412us/step - loss: 0.8305 - acc: 0.3358 - val_loss: 3.5221 - val_acc: 0.0638\n",
            "Epoch 167/200\n",
            "6778/6778 [==============================] - 3s 413us/step - loss: 0.8310 - acc: 0.3350 - val_loss: 3.5281 - val_acc: 0.0637\n",
            "Epoch 168/200\n",
            "6778/6778 [==============================] - 3s 409us/step - loss: 0.8329 - acc: 0.3353 - val_loss: 3.5315 - val_acc: 0.0639\n",
            "Epoch 169/200\n",
            "6778/6778 [==============================] - 3s 414us/step - loss: 0.8321 - acc: 0.3349 - val_loss: 3.5321 - val_acc: 0.0630\n",
            "Epoch 170/200\n",
            "6778/6778 [==============================] - 3s 417us/step - loss: 0.8335 - acc: 0.3344 - val_loss: 3.5443 - val_acc: 0.0646\n",
            "Epoch 171/200\n",
            "6778/6778 [==============================] - 3s 411us/step - loss: 0.8299 - acc: 0.3346 - val_loss: 3.5341 - val_acc: 0.0643\n",
            "Epoch 172/200\n",
            "6778/6778 [==============================] - 3s 417us/step - loss: 0.8304 - acc: 0.3350 - val_loss: 3.5461 - val_acc: 0.0636\n",
            "Epoch 173/200\n",
            "6778/6778 [==============================] - 3s 411us/step - loss: 0.8249 - acc: 0.3368 - val_loss: 3.5458 - val_acc: 0.0623\n",
            "Epoch 174/200\n",
            "6778/6778 [==============================] - 3s 412us/step - loss: 0.8232 - acc: 0.3374 - val_loss: 3.5396 - val_acc: 0.0638\n",
            "Epoch 175/200\n",
            "6778/6778 [==============================] - 3s 411us/step - loss: 0.8229 - acc: 0.3368 - val_loss: 3.5484 - val_acc: 0.0632\n",
            "Epoch 176/200\n",
            "6778/6778 [==============================] - 3s 413us/step - loss: 0.8239 - acc: 0.3363 - val_loss: 3.5511 - val_acc: 0.0658\n",
            "Epoch 177/200\n",
            "6778/6778 [==============================] - 3s 412us/step - loss: 0.8210 - acc: 0.3373 - val_loss: 3.5519 - val_acc: 0.0639\n",
            "Epoch 178/200\n",
            "6778/6778 [==============================] - 3s 414us/step - loss: 0.8196 - acc: 0.3370 - val_loss: 3.5603 - val_acc: 0.0636\n",
            "Epoch 179/200\n",
            "6778/6778 [==============================] - 3s 414us/step - loss: 0.8207 - acc: 0.3372 - val_loss: 3.5553 - val_acc: 0.0632\n",
            "Epoch 180/200\n",
            "6778/6778 [==============================] - 3s 414us/step - loss: 0.8175 - acc: 0.3387 - val_loss: 3.5597 - val_acc: 0.0637\n",
            "Epoch 181/200\n",
            "6778/6778 [==============================] - 3s 417us/step - loss: 0.8161 - acc: 0.3385 - val_loss: 3.5632 - val_acc: 0.0643\n",
            "Epoch 182/200\n",
            "6778/6778 [==============================] - 3s 422us/step - loss: 0.8124 - acc: 0.3391 - val_loss: 3.5715 - val_acc: 0.0641\n",
            "Epoch 183/200\n",
            "6778/6778 [==============================] - 3s 415us/step - loss: 0.8140 - acc: 0.3390 - val_loss: 3.5705 - val_acc: 0.0635\n",
            "Epoch 184/200\n",
            "6778/6778 [==============================] - 3s 412us/step - loss: 0.8095 - acc: 0.3402 - val_loss: 3.5744 - val_acc: 0.0639\n",
            "Epoch 185/200\n",
            "6778/6778 [==============================] - 3s 412us/step - loss: 0.8091 - acc: 0.3406 - val_loss: 3.5714 - val_acc: 0.0647\n",
            "Epoch 186/200\n",
            "6778/6778 [==============================] - 3s 408us/step - loss: 0.8089 - acc: 0.3405 - val_loss: 3.5809 - val_acc: 0.0632\n",
            "Epoch 187/200\n",
            "6778/6778 [==============================] - 3s 412us/step - loss: 0.8072 - acc: 0.3406 - val_loss: 3.5810 - val_acc: 0.0635\n",
            "Epoch 188/200\n",
            "6778/6778 [==============================] - 3s 408us/step - loss: 0.8110 - acc: 0.3395 - val_loss: 3.5890 - val_acc: 0.0626\n",
            "Epoch 189/200\n",
            "6778/6778 [==============================] - 3s 412us/step - loss: 0.8097 - acc: 0.3398 - val_loss: 3.5944 - val_acc: 0.0622\n",
            "Epoch 190/200\n",
            "6778/6778 [==============================] - 3s 412us/step - loss: 0.8085 - acc: 0.3404 - val_loss: 3.6012 - val_acc: 0.0614\n",
            "Epoch 191/200\n",
            "6778/6778 [==============================] - 3s 419us/step - loss: 0.8080 - acc: 0.3400 - val_loss: 3.5955 - val_acc: 0.0626\n",
            "Epoch 192/200\n",
            "6778/6778 [==============================] - 3s 413us/step - loss: 0.8081 - acc: 0.3397 - val_loss: 3.5948 - val_acc: 0.0643\n",
            "Epoch 193/200\n",
            "6778/6778 [==============================] - 3s 415us/step - loss: 0.8072 - acc: 0.3395 - val_loss: 3.5978 - val_acc: 0.0630\n",
            "Epoch 194/200\n",
            "6778/6778 [==============================] - 3s 416us/step - loss: 0.8071 - acc: 0.3406 - val_loss: 3.6011 - val_acc: 0.0631\n",
            "Epoch 195/200\n",
            "6778/6778 [==============================] - 3s 413us/step - loss: 0.8044 - acc: 0.3407 - val_loss: 3.6013 - val_acc: 0.0650\n",
            "Epoch 196/200\n",
            "6778/6778 [==============================] - 3s 415us/step - loss: 0.8022 - acc: 0.3414 - val_loss: 3.6206 - val_acc: 0.0624\n",
            "Epoch 197/200\n",
            "6778/6778 [==============================] - 3s 410us/step - loss: 0.8014 - acc: 0.3416 - val_loss: 3.6147 - val_acc: 0.0634\n",
            "Epoch 198/200\n",
            "6778/6778 [==============================] - 3s 411us/step - loss: 0.8014 - acc: 0.3412 - val_loss: 3.6223 - val_acc: 0.0617\n",
            "Epoch 199/200\n",
            "6778/6778 [==============================] - 3s 414us/step - loss: 0.8013 - acc: 0.3412 - val_loss: 3.6268 - val_acc: 0.0632\n",
            "Epoch 200/200\n",
            "6778/6778 [==============================] - 3s 410us/step - loss: 0.8021 - acc: 0.3415 - val_loss: 3.6207 - val_acc: 0.0638\n"
          ],
          "name": "stdout"
        }
      ]
    },
    {
      "cell_type": "code",
      "metadata": {
        "id": "XCPKglM7ujnF",
        "colab_type": "code",
        "colab": {
          "base_uri": "https://localhost:8080/",
          "height": 513
        },
        "outputId": "03898598-f7ba-4678-e0d1-154cfa77d096"
      },
      "source": [
        "plt.plot(r.history['loss'], label='loss')\n",
        "plt.plot(r.history['val_loss'],label='val_loss')\n",
        "plt.legend()\n",
        "plt.show()\n",
        "\n",
        "plt.plot(r.history['acc'], label='acc')\n",
        "plt.plot(r.history['val_acc'],label='val_acc')\n",
        "plt.legend()\n",
        "plt.show()"
      ],
      "execution_count": 15,
      "outputs": [
        {
          "output_type": "display_data",
          "data": {
            "image/png": "[encoded data removed]",
            "text/plain": [
              "<Figure size 432x288 with 1 Axes>"
            ]
          },
          "metadata": {
            "tags": []
          }
        },
        {
          "output_type": "display_data",
          "data": {
            "image/png": "[encoded data removed]",
            "text/plain": [
              "<Figure size 432x288 with 1 Axes>"
            ]
          },
          "metadata": {
            "tags": []
          }
        }
      ]
    },
    {
      "cell_type": "code",
      "metadata": {
        "id": "KJMmXkHr8j2U",
        "colab_type": "code",
        "colab": {}
      },
      "source": [
        "idx2word = {v:k for k,v in word2idx.items()}"
      ],
      "execution_count": 0,
      "outputs": []
    },
    {
      "cell_type": "code",
      "metadata": {
        "id": "_FQJ45IcCqUw",
        "colab_type": "code",
        "colab": {}
      },
      "source": [
        "input2 = Input(shape=(1,))\n",
        "x = embedding_layer(input2)\n",
        "x, h, c = lstm(x, initial_state=[initial_h, initial_c])\n",
        "output2 = dense(x)\n",
        "sampling_model = Model([input2, initial_h, initial_c], [output2, h, c])"
      ],
      "execution_count": 0,
      "outputs": []
    },
    {
      "cell_type": "code",
      "metadata": {
        "id": "s_doT491DFuT",
        "colab_type": "code",
        "colab": {}
      },
      "source": [
        "def sample_line():\n",
        "  np_input = np.array([[word2idx['<sos>']]])\n",
        "  h = np.zeros((1, LATENT_DIM))\n",
        "  c = np.zeros((1, LATENT_DIM))\n",
        "\n",
        "  eos = word2idx['<eos>']\n",
        "  output_sequence = []\n",
        "  for _ in range(max_sequence_length):\n",
        "    o, h, c = sampling_model.predict([np_input, h, c])\n",
        "    probs = o[0,0]\n",
        "    probs[0] = 0\n",
        "    probs /= probs.sum()\n",
        "    idx = np.random.choice(len(probs), p=probs)\n",
        "    if idx == eos:\n",
        "      break\n",
        "    output_sequence.append(idx2word.get(idx, '<WTF %s>'%idx))\n",
        "    np_input[0,0] = idx\n",
        "  return ' '.join(output_sequence)"
      ],
      "execution_count": 0,
      "outputs": []
    },
    {
      "cell_type": "code",
      "metadata": {
        "id": "ZP9KyyweE3u2",
        "colab_type": "code",
        "colab": {
          "base_uri": "https://localhost:8080/",
          "height": 372
        },
        "outputId": "3ee5f7fe-976a-491a-d504-ca0d09cde146"
      },
      "source": [
        "while True:\n",
        "  for _ in range(4):\n",
        "    print(sample_line())\n",
        "  ans = input(\"Generate another? [Y/n]\")\n",
        "  if ans and ans[0].lower().startswith('n'):\n",
        "    break"
      ],
      "execution_count": 27,
      "outputs": [
        {
          "output_type": "stream",
          "text": [
            "and sleep on it the way a night\n",
            "and where was either cloud there came of her,\n",
            "there's you know the\n",
            "'one is no life does get me how to know\n",
            "Generate another? [Y/n]y\n",
            "no one who would\n",
            "that has him now to be or ready to\n",
            "i thought the growing things went quite back,\n",
            "for things would seemed too much at a\n",
            "Generate another? [Y/n]y\n",
            "with > look,\n",
            "like nothing else by day, like ghosts by night;\n",
            "you'll rest when i'm gone, perhaps\n",
            "what was it? did you call me as if\n",
            "Generate another? [Y/n]\n",
            "if, as if what they were all,\n",
            "don't ask to cut off the pasture i'm\n",
            "of night air on the below\n",
            "'the cellar bones make the bed or\n",
            "Generate another? [Y/n]n\n"
          ],
          "name": "stdout"
        }
      ]
    },
    {
      "cell_type": "code",
      "metadata": {
        "id": "wgrdmBObFL23",
        "colab_type": "code",
        "colab": {}
      },
      "source": [
        ""
      ],
      "execution_count": 0,
      "outputs": []
    }
  ]
}