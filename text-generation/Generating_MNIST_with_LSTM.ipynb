{
  "nbformat": 4,
  "nbformat_minor": 0,
  "metadata": {
    "colab": {
      "name": "Text Generation with LSTM.ipynb",
      "provenance": [],
      "include_colab_link": true
    },
    "kernelspec": {
      "name": "python3",
      "display_name": "Python 3"
    },
    "accelerator": "GPU"
  },
  "cells": [
    {
      "cell_type": "markdown",
      "metadata": {
        "id": "view-in-github",
        "colab_type": "text"
      },
      "source": [
        "<a href=\"https://colab.research.google.com/github/sourcecode369/unconventional-neural-networks/blob/master/text-generation/Generating_MNIST_with_LSTM.ipynb\" target=\"_parent\"><img src=\"https://colab.research.google.com/assets/colab-badge.svg\" alt=\"Open In Colab\"/></a>"
      ]
    },
    {
      "cell_type": "code",
      "metadata": {
        "id": "uMOlkcL8tuSs",
        "colab_type": "code",
        "colab": {
          "base_uri": "https://localhost:8080/",
          "height": 35
        },
        "outputId": "d213f732-a9c8-4488-96e5-2a986ae626ad"
      },
      "source": [
        "import numpy as np\n",
        "%tensorflow_version 2.x\n",
        "import tensorflow as tf\n",
        "from tensorflow.keras.models import Sequential\n",
        "from tensorflow.keras.layers import Dense, Dropout, BatchNormalization, LSTM, GRU, Bidirectional \n",
        "from tensorflow.keras.callbacks import ModelCheckpoint, ReduceLROnPlateau\n",
        "from tensorflow.keras.utils import plot_model"
      ],
      "execution_count": 2,
      "outputs": [
        {
          "output_type": "stream",
          "text": [
            "TensorFlow 2.x selected.\n"
          ],
          "name": "stdout"
        }
      ]
    },
    {
      "cell_type": "code",
      "metadata": {
        "id": "9etXLoa0uHwK",
        "colab_type": "code",
        "outputId": "4e7688d5-1dc2-43e8-c217-6a64a3e26639",
        "colab": {
          "base_uri": "https://localhost:8080/",
          "height": 35
        }
      },
      "source": [
        "import urllib\n",
        "urllib.request.urlretrieve('https://raw.githubusercontent.com/sourcecode369/unconventional-neural-networks/master/mnist%20generator%20classifier/classify/input.txt','mnist.txt')"
      ],
      "execution_count": 3,
      "outputs": [
        {
          "output_type": "execute_result",
          "data": {
            "text/plain": [
              "('mnist.txt', <http.client.HTTPMessage at 0x7f448787ce10>)"
            ]
          },
          "metadata": {
            "tags": []
          },
          "execution_count": 3
        }
      ]
    },
    {
      "cell_type": "code",
      "metadata": {
        "id": "Gb864g0O_YWs",
        "colab_type": "code",
        "outputId": "edc33c01-7dc9-4e51-9108-20d000c5f685",
        "colab": {
          "base_uri": "https://localhost:8080/",
          "height": 35
        }
      },
      "source": [
        "!ls"
      ],
      "execution_count": 4,
      "outputs": [
        {
          "output_type": "stream",
          "text": [
            "mnist.txt  sample_data\n"
          ],
          "name": "stdout"
        }
      ]
    },
    {
      "cell_type": "code",
      "metadata": {
        "id": "kF1n89u6uKaC",
        "colab_type": "code",
        "outputId": "75ff0068-f4b3-41f4-c411-c7fea4375afb",
        "colab": {
          "base_uri": "https://localhost:8080/",
          "height": 35
        }
      },
      "source": [
        "text = open('mnist.txt', 'rb').read().decode(encoding='utf-8')\n",
        "text = text.lower()\n",
        "print(\"Length of text {} characters.\".format(len(text)))"
      ],
      "execution_count": 5,
      "outputs": [
        {
          "output_type": "stream",
          "text": [
            "Length of text 46745565 characters.\n"
          ],
          "name": "stdout"
        }
      ]
    },
    {
      "cell_type": "code",
      "metadata": {
        "id": "mbWes4XdADaR",
        "colab_type": "code",
        "outputId": "572cf064-de9b-4233-ed15-4cd5ec38e04b",
        "colab": {
          "base_uri": "https://localhost:8080/",
          "height": 971
        }
      },
      "source": [
        "print(text[:1500])"
      ],
      "execution_count": 6,
      "outputs": [
        {
          "output_type": "stream",
          "text": [
            "[[0000000000000000000000000000]\n",
            "[0000000000000000000000000000]\n",
            "[0000000000000000000000000000]\n",
            "[0000000000000000000000000000]\n",
            "[0000000000000000000000000000]\n",
            "[0000000000000000011011100000]\n",
            "[0000000000011111111111100000]\n",
            "[0000000011111111110000000000]\n",
            "[0000000011111111110000000000]\n",
            "[0000000001011100010000000000]\n",
            "[0000000000011000000000000000]\n",
            "[0000000000011100000000000000]\n",
            "[0000000000001100000000000000]\n",
            "[0000000000000111000000000000]\n",
            "[0000000000000011100000000000]\n",
            "[0000000000000001111000000000]\n",
            "[0000000000000000011100000000]\n",
            "[0000000000000000011100000000]\n",
            "[0000000000000001111100000000]\n",
            "[0000000000000111111100000000]\n",
            "[0000000000001111110000000000]\n",
            "[0000000000111111000000000000]\n",
            "[0000000111111100000000000000]\n",
            "[0000011111111000000000000000]\n",
            "[0000111111100000000000000000]\n",
            "[0000000000000000000000000000]\n",
            "[0000000000000000000000000000]\n",
            "[0000000000000000000000000000]]\n",
            ":[[5555555555]\n",
            "[5555555555]\n",
            "[5555555555]\n",
            "[5555555555]\n",
            "[5555555555]\n",
            "[5555555555]\n",
            "[5555555555]\n",
            "[5555555555]\n",
            "[5555555555]\n",
            "[5555555555]]:\n",
            "\n",
            "[[0000000000000000000000000000]\n",
            "[0000000000000000000000000000]\n",
            "[0000000000000000000000000000]\n",
            "[0000000000000000000000000000]\n",
            "[0000000000000000111000000000]\n",
            "[0000000000000001111100000000]\n",
            "[0000000000000011111100000000]\n",
            "[0000000000000111110110000000]\n",
            "[0000000000011111110111000000]\n",
            "[0000000000011110110011000000]\n",
            "[0000000000111100000011000000]\n",
            "[0000000001111000000011100000]\n",
            "[0000000011100000000011100000]\n",
            "[0000000011000000000011100000]\n",
            "[0000000111000000000011100000]\n",
            "[0000000110000000000011100000\n"
          ],
          "name": "stdout"
        }
      ]
    },
    {
      "cell_type": "code",
      "metadata": {
        "id": "0LLp-jq_ukTb",
        "colab_type": "code",
        "colab": {}
      },
      "source": [
        "chars = sorted(list(set(text)))\n",
        "char_to_int = dict((c,i) for i, c in enumerate(chars))\n",
        "idx_to_char = np.array(chars)\n",
        "text_as_int = np.array([char_to_int[c] for c in text])"
      ],
      "execution_count": 0,
      "outputs": []
    },
    {
      "cell_type": "code",
      "metadata": {
        "id": "iuFhAe9M-Lmj",
        "colab_type": "code",
        "colab": {}
      },
      "source": [
        "n_chars = len(text)\n",
        "n_vocab = len(chars)"
      ],
      "execution_count": 0,
      "outputs": []
    },
    {
      "cell_type": "code",
      "metadata": {
        "id": "WHVERHFN-OKX",
        "colab_type": "code",
        "outputId": "feafda6f-4d69-4fb7-f77c-a7dfb0b613db",
        "colab": {
          "base_uri": "https://localhost:8080/",
          "height": 312
        }
      },
      "source": [
        "print(\"{\")\n",
        "for char, _ in zip(char_to_int, range(20)):\n",
        "  print(' {:4s}: {:3d}, '.format(repr(char), char_to_int[char]))\n",
        "print('   ...\\n')"
      ],
      "execution_count": 9,
      "outputs": [
        {
          "output_type": "stream",
          "text": [
            "{\n",
            " '\\n':   0, \n",
            " '0' :   1, \n",
            " '1' :   2, \n",
            " '2' :   3, \n",
            " '3' :   4, \n",
            " '4' :   5, \n",
            " '5' :   6, \n",
            " '6' :   7, \n",
            " '7' :   8, \n",
            " '8' :   9, \n",
            " '9' :  10, \n",
            " ':' :  11, \n",
            " '[' :  12, \n",
            " ']' :  13, \n",
            "   ...\n",
            "\n"
          ],
          "name": "stdout"
        }
      ]
    },
    {
      "cell_type": "code",
      "metadata": {
        "id": "pgZHtmDMAPsO",
        "colab_type": "code",
        "outputId": "50c4fd64-4422-4660-f5d4-083b24aeb52b",
        "colab": {
          "base_uri": "https://localhost:8080/",
          "height": 55
        }
      },
      "source": [
        "print(f'{repr(text[:15])} ------ characters mapped to int ------------> {text_as_int[:15]}')"
      ],
      "execution_count": 10,
      "outputs": [
        {
          "output_type": "stream",
          "text": [
            "'[[0000000000000' ------ characters mapped to int ------------> [12 12  1  1  1  1  1  1  1  1  1  1  1  1  1]\n"
          ],
          "name": "stdout"
        }
      ]
    },
    {
      "cell_type": "code",
      "metadata": {
        "id": "4kLlhIqGAuf4",
        "colab_type": "code",
        "outputId": "a7650102-714c-4237-da95-155276a99c89",
        "colab": {
          "base_uri": "https://localhost:8080/",
          "height": 191
        }
      },
      "source": [
        "seq_length = 100\n",
        "\n",
        "examples_per_epoch = len(text)\n",
        "\n",
        "char_dataset = tf.data.Dataset.from_tensor_slices(text_as_int)\n",
        "\n",
        "for i in char_dataset.take(10):\n",
        "  print(idx_to_char[i.numpy()])"
      ],
      "execution_count": 11,
      "outputs": [
        {
          "output_type": "stream",
          "text": [
            "[\n",
            "[\n",
            "0\n",
            "0\n",
            "0\n",
            "0\n",
            "0\n",
            "0\n",
            "0\n",
            "0\n"
          ],
          "name": "stdout"
        }
      ]
    },
    {
      "cell_type": "code",
      "metadata": {
        "id": "UeA0oCO9BMae",
        "colab_type": "code",
        "outputId": "43dd862d-9f1c-4016-f51b-7595411f73ec",
        "colab": {
          "base_uri": "https://localhost:8080/",
          "height": 381
        }
      },
      "source": [
        "sequences = char_dataset.batch(seq_length+1, drop_remainder=True)\n",
        "\n",
        "for item in sequences.take(5):\n",
        "  print(''.join(idx_to_char[item.numpy()]))"
      ],
      "execution_count": 12,
      "outputs": [
        {
          "output_type": "stream",
          "text": [
            "[[0000000000000000000000000000]\n",
            "[0000000000000000000000000000]\n",
            "[0000000000000000000000000000]\n",
            "[000000\n",
            "0000000000000000000000]\n",
            "[0000000000000000000000000000]\n",
            "[0000000000000000011011100000]\n",
            "[00000000000111\n",
            "11111111100000]\n",
            "[0000000011111111110000000000]\n",
            "[0000000011111111110000000000]\n",
            "[0000000001011100010000\n",
            "000000]\n",
            "[0000000000011000000000000000]\n",
            "[0000000000011100000000000000]\n",
            "[0000000000001100000000000000]\n",
            "\n",
            "[0000000000000111000000000000]\n",
            "[0000000000000011100000000000]\n",
            "[0000000000000001111000000000]\n",
            "[0000000\n"
          ],
          "name": "stdout"
        }
      ]
    },
    {
      "cell_type": "code",
      "metadata": {
        "id": "qAPwc6SFCR3H",
        "colab_type": "code",
        "colab": {}
      },
      "source": [
        "def split_input_target(chunk):\n",
        "  input_text = chunk[:-1]\n",
        "  target_text = chunk[1:]\n",
        "  return input_text, target_text\n",
        "\n",
        "dataset = sequences.map(split_input_target)"
      ],
      "execution_count": 0,
      "outputs": []
    },
    {
      "cell_type": "code",
      "metadata": {
        "id": "N5yyZ_vhCbk1",
        "colab_type": "code",
        "outputId": "120b2446-d7db-4a28-d525-dc6fec95fd16",
        "colab": {
          "base_uri": "https://localhost:8080/",
          "height": 72
        }
      },
      "source": [
        "for input_example, target_example in dataset.take(1):\n",
        "  print('Input data: ', repr(''.join(idx_to_char[input_example.numpy()])))\n",
        "  print('Target data: ',repr(''.join(idx_to_char[target_example.numpy()])))"
      ],
      "execution_count": 14,
      "outputs": [
        {
          "output_type": "stream",
          "text": [
            "Input data:  '[[0000000000000000000000000000]\\n[0000000000000000000000000000]\\n[0000000000000000000000000000]\\n[00000'\n",
            "Target data:  '[0000000000000000000000000000]\\n[0000000000000000000000000000]\\n[0000000000000000000000000000]\\n[000000'\n"
          ],
          "name": "stdout"
        }
      ]
    },
    {
      "cell_type": "code",
      "metadata": {
        "id": "UM7FmIlMCdEX",
        "colab_type": "code",
        "outputId": "f6f8b6f6-dc6d-4c25-b1f2-b7e646b6d8ac",
        "colab": {
          "base_uri": "https://localhost:8080/",
          "height": 277
        }
      },
      "source": [
        "for i, (input_idx, target_idx) in enumerate(zip(input_example[:5], target_example[:5])):\n",
        "  print(\"Step: {:4d}\".format(i))\n",
        "  print(\" input: {} ({:s})\".format(input_idx, repr(idx_to_char[input_idx])))\n",
        "  print(\" target: {} ({:s})\".format(target_idx, repr(idx_to_char[target_idx])))"
      ],
      "execution_count": 15,
      "outputs": [
        {
          "output_type": "stream",
          "text": [
            "Step:    0\n",
            " input: 12 ('[')\n",
            " target: 12 ('[')\n",
            "Step:    1\n",
            " input: 12 ('[')\n",
            " target: 1 ('0')\n",
            "Step:    2\n",
            " input: 1 ('0')\n",
            " target: 1 ('0')\n",
            "Step:    3\n",
            " input: 1 ('0')\n",
            " target: 1 ('0')\n",
            "Step:    4\n",
            " input: 1 ('0')\n",
            " target: 1 ('0')\n"
          ],
          "name": "stdout"
        }
      ]
    },
    {
      "cell_type": "code",
      "metadata": {
        "id": "Ko5YRRtiCmXT",
        "colab_type": "code",
        "outputId": "9695c254-eec3-4643-95ab-58fd70c9ee95",
        "colab": {
          "base_uri": "https://localhost:8080/",
          "height": 52
        }
      },
      "source": [
        "BATCH_SIZE = 512\n",
        "\n",
        "BUFFER_SIZE = 10000\n",
        "\n",
        "dataset = dataset.shuffle(BUFFER_SIZE).batch(BATCH_SIZE, drop_remainder=True)\n",
        "\n",
        "dataset.element_spec"
      ],
      "execution_count": 16,
      "outputs": [
        {
          "output_type": "execute_result",
          "data": {
            "text/plain": [
              "(TensorSpec(shape=(512, 100), dtype=tf.int64, name=None),\n",
              " TensorSpec(shape=(512, 100), dtype=tf.int64, name=None))"
            ]
          },
          "metadata": {
            "tags": []
          },
          "execution_count": 16
        }
      ]
    },
    {
      "cell_type": "code",
      "metadata": {
        "id": "UzcHtVnRCubn",
        "colab_type": "code",
        "colab": {}
      },
      "source": [
        "vocab_size = len(chars)\n",
        "embedding_dim = 256\n",
        "rnn_units = 2048"
      ],
      "execution_count": 0,
      "outputs": []
    },
    {
      "cell_type": "code",
      "metadata": {
        "id": "-3OF10J3Cuxf",
        "colab_type": "code",
        "colab": {}
      },
      "source": [
        "def build_model(vocab_size, embedding_dim, rnn_units, batch_size):\n",
        "  model = tf.keras.Sequential([\n",
        "                               tf.keras.layers.Embedding(vocab_size, embedding_dim, batch_input_shape=[batch_size, None]),\n",
        "                               tf.keras.layers.LSTM(rnn_units, return_sequences=True, stateful=True, recurrent_initializer='glorot_uniform'),\n",
        "                               tf.keras.layers.LSTM(rnn_units, return_sequences=True, stateful=True, recurrent_initializer='glorot_uniform'),\n",
        "                               tf.keras.layers.Dropout(0.2),\n",
        "                               tf.keras.layers.Dense(vocab_size)\n",
        "  ])\n",
        "  return model"
      ],
      "execution_count": 0,
      "outputs": []
    },
    {
      "cell_type": "code",
      "metadata": {
        "id": "BOIAn-SdDIO6",
        "colab_type": "code",
        "colab": {}
      },
      "source": [
        "model = build_model(vocab_size=len(chars), embedding_dim=embedding_dim, rnn_units=rnn_units, batch_size=BATCH_SIZE)"
      ],
      "execution_count": 0,
      "outputs": []
    },
    {
      "cell_type": "code",
      "metadata": {
        "id": "kZhccTakDMkU",
        "colab_type": "code",
        "outputId": "5eb24fbf-34db-4494-b980-42a8c1465d1a",
        "colab": {
          "base_uri": "https://localhost:8080/",
          "height": 329
        }
      },
      "source": [
        "model.summary()"
      ],
      "execution_count": 20,
      "outputs": [
        {
          "output_type": "stream",
          "text": [
            "Model: \"sequential\"\n",
            "_________________________________________________________________\n",
            "Layer (type)                 Output Shape              Param #   \n",
            "=================================================================\n",
            "embedding (Embedding)        (512, None, 256)          3584      \n",
            "_________________________________________________________________\n",
            "lstm (LSTM)                  (512, None, 2048)         18882560  \n",
            "_________________________________________________________________\n",
            "lstm_1 (LSTM)                (512, None, 2048)         33562624  \n",
            "_________________________________________________________________\n",
            "dropout (Dropout)            (512, None, 2048)         0         \n",
            "_________________________________________________________________\n",
            "dense (Dense)                (512, None, 14)           28686     \n",
            "=================================================================\n",
            "Total params: 52,477,454\n",
            "Trainable params: 52,477,454\n",
            "Non-trainable params: 0\n",
            "_________________________________________________________________\n"
          ],
          "name": "stdout"
        }
      ]
    },
    {
      "cell_type": "code",
      "metadata": {
        "id": "j1Nc3YfMDQLL",
        "colab_type": "code",
        "outputId": "b8cc457a-d529-4a3c-8eb6-94efb1385ef1",
        "colab": {
          "base_uri": "https://localhost:8080/",
          "height": 35
        }
      },
      "source": [
        "for input_example_batch, target_example_batch in dataset.take(1):\n",
        "  example_batch_predictions = model(input_example_batch)\n",
        "  print(example_batch_predictions.shape, \"# batch_size, sequence_length, vocab_size\")"
      ],
      "execution_count": 21,
      "outputs": [
        {
          "output_type": "stream",
          "text": [
            "(512, 100, 14) # batch_size, sequence_length, vocab_size\n"
          ],
          "name": "stdout"
        }
      ]
    },
    {
      "cell_type": "code",
      "metadata": {
        "id": "nzMfPbonDVot",
        "colab_type": "code",
        "colab": {}
      },
      "source": [
        "sampled_indices = tf.random.categorical(example_batch_predictions[0], num_samples=1)\n",
        "sampled_indices = tf.squeeze(sampled_indices, axis=-1).numpy()"
      ],
      "execution_count": 0,
      "outputs": []
    },
    {
      "cell_type": "code",
      "metadata": {
        "id": "h2jtIKKeDXoD",
        "colab_type": "code",
        "outputId": "a59bb435-bcdb-4c78-95d2-03c50495b6a4",
        "colab": {
          "base_uri": "https://localhost:8080/",
          "height": 124
        }
      },
      "source": [
        "print('Input: \\n', repr(\"\".join(idx_to_char[input_example_batch[0]])))\n",
        "print()\n",
        "print(\"Next Char Predictions: \\n\",repr(\"\".join(idx_to_char[sampled_indices])))"
      ],
      "execution_count": 23,
      "outputs": [
        {
          "output_type": "stream",
          "text": [
            "Input: \n",
            " '100000000]\\n[0000000000000001111100000000]\\n[0000000000000011110000000000]\\n[00000000000011111000000000'\n",
            "\n",
            "Next Char Predictions: \n",
            " '097183:\\n36691:93[5[7563\\n289:329[55\\n471[900:0\\n97:2260351:8774[]546:2\\n:\\n\\n1]15::83:8]6\\n22119:999]4439\\n1'\n"
          ],
          "name": "stdout"
        }
      ]
    },
    {
      "cell_type": "code",
      "metadata": {
        "id": "kehml7A_DZXQ",
        "colab_type": "code",
        "outputId": "2d875c98-339f-4ab6-be05-928f934cd1f7",
        "colab": {
          "base_uri": "https://localhost:8080/",
          "height": 52
        }
      },
      "source": [
        "def loss(labels, logits):\n",
        "  return tf.keras.losses.sparse_categorical_crossentropy(labels, logits, from_logits=True)\n",
        "example_batch_loss = loss(target_example_batch, example_batch_predictions)\n",
        "print(\"Predictions shape: \", example_batch_predictions.shape, \"# (batch_size, sequence_length, vocab_size)\")\n",
        "print(\"Scalar loss: \", example_batch_loss.numpy().mean())"
      ],
      "execution_count": 24,
      "outputs": [
        {
          "output_type": "stream",
          "text": [
            "Predictions shape:  (512, 100, 14) # (batch_size, sequence_length, vocab_size)\n",
            "Scalar loss:  2.6384017\n"
          ],
          "name": "stdout"
        }
      ]
    },
    {
      "cell_type": "code",
      "metadata": {
        "id": "DTM7e-3yDg-n",
        "colab_type": "code",
        "colab": {}
      },
      "source": [
        "model.compile(optimizer=\"adam\", loss=loss)"
      ],
      "execution_count": 0,
      "outputs": []
    },
    {
      "cell_type": "code",
      "metadata": {
        "id": "lQEETmeEDjEk",
        "colab_type": "code",
        "colab": {}
      },
      "source": [
        "import os \n",
        "\n",
        "checkpoint_dir = './training_checkpoints'\n",
        "\n",
        "checkpoint_prefix = os.path.join(checkpoint_dir, \"ckpt_{epoch}\")\n",
        "\n",
        "checkpoint_callback=tf.keras.callbacks.ModelCheckpoint(\n",
        "    filepath=checkpoint_prefix,\n",
        "    save_weights_only=True)"
      ],
      "execution_count": 0,
      "outputs": []
    },
    {
      "cell_type": "code",
      "metadata": {
        "id": "Hw4QfRluDkCa",
        "colab_type": "code",
        "colab": {}
      },
      "source": [
        "EPOCHS = 2"
      ],
      "execution_count": 0,
      "outputs": []
    },
    {
      "cell_type": "code",
      "metadata": {
        "id": "eryL0JyJDnln",
        "colab_type": "code",
        "outputId": "f390ad16-bd0c-4645-abf4-ed5b963a323c",
        "colab": {
          "base_uri": "https://localhost:8080/",
          "height": 104
        }
      },
      "source": [
        "history = model.fit(dataset, epochs=EPOCHS, callbacks=[checkpoint_callback])"
      ],
      "execution_count": 0,
      "outputs": [
        {
          "output_type": "stream",
          "text": [
            "Train for 903 steps\n",
            "Epoch 1/2\n",
            "903/903 [==============================] - 1871s 2s/step - loss: 0.3587\n",
            "Epoch 2/2\n",
            " 31/903 [>.............................] - ETA: 30:55 - loss: 0.2061"
          ],
          "name": "stdout"
        }
      ]
    },
    {
      "cell_type": "code",
      "metadata": {
        "id": "G45fjoAUDo7o",
        "colab_type": "code",
        "colab": {}
      },
      "source": [
        ""
      ],
      "execution_count": 0,
      "outputs": []
    }
  ]
}