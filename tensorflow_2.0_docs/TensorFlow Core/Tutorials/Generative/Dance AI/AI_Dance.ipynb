{
  "nbformat": 4,
  "nbformat_minor": 0,
  "metadata": {
    "kernelspec": {
      "display_name": "Python 3",
      "language": "python",
      "name": "python3"
    },
    "language_info": {
      "name": "python",
      "version": "3.6.6",
      "mimetype": "text/x-python",
      "codemirror_mode": {
        "name": "ipython",
        "version": 3
      },
      "pygments_lexer": "ipython3",
      "nbconvert_exporter": "python",
      "file_extension": ".py"
    },
    "colab": {
      "name": "AI Dance.ipynb",
      "provenance": [],
      "include_colab_link": true
    }
  },
  "cells": [
    {
      "cell_type": "markdown",
      "metadata": {
        "id": "view-in-github",
        "colab_type": "text"
      },
      "source": [
        "<a href=\"https://colab.research.google.com/github/sourcecode369/unconventional-neural-networks/blob/master/tensorflow_2.0_docs/TensorFlow%20Core/Tutorials/Generative/Dance%20AI/AI_Dance.ipynb\" target=\"_parent\"><img src=\"https://colab.research.google.com/assets/colab-badge.svg\" alt=\"Open In Colab\"/></a>"
      ]
    },
    {
      "cell_type": "code",
      "metadata": {
        "_kg_hide-input": true,
        "trusted": true,
        "_uuid": "8cf3f7e5d0870b3260360c10351ec8ff18889ced",
        "id": "Z4w6yLUrDrrZ",
        "colab_type": "code",
        "colab": {}
      },
      "source": [
        "from IPython.display import Image\n",
        "Image(\"../input/Dance_Robots_Comic.jpg\")"
      ],
      "execution_count": 0,
      "outputs": []
    },
    {
      "cell_type": "markdown",
      "metadata": {
        "_uuid": "713ff254fae73881a24d94ea7e36ac0df7fbdb87",
        "id": "JuEuuOk5Drrf",
        "colab_type": "text"
      },
      "source": [
        "# Teaching an AI to Dance\n",
        "\n",
        "Watch a sample output from this notebook here: https://youtu.be/1IvLdoXSoaU\n",
        "\n",
        "NLP and image CNNs are all the rage right now, here we combine techniques from both to have a computer learn to make it's own dance videos. This notebook is a consolidation of 3 smaller notebooks I made for this project: \n",
        "\n",
        "Part 1-Video Preprocessing: We will take the frames from a dance video of silhouettes, preprocess them to smaller and simpler, and add them to a zip file in sequence.\n",
        "\n",
        "Part 2-Autoencoder Compression: To save even more memory for our model, we will compress these frames with an Autoencoder into a much smaller numpy array.\n",
        "\n",
        "Part 3-Train AI w/ RNNs: We will put these compressed frames into sequences and train a model to create more.\n",
        "\n",
        "\n",
        "I based this kernel off the project in this youtube video: https://www.youtube.com/watch?v=Sc7RiNgHHaE While he does not share his code, the steps expressed in the video were clear enough to piece together this project. Thanks to Kaggle's kernals GPU and some alterations, we can achieve even better results in less time than what is shown in the video. While still pretty computationally expensive for modern computing power, using these techniques for a dancing AI opens up the groundwork for AI to predict on and create all types of different videos.\n",
        "\n",
        "\n",
        "### Skip Training\n",
        "\n",
        "The results of the 3 parts are already recorded in the dataset and each part can work independently from each other by loading the pretrained data. Setting the following variables to *True* will skip the training for that part and just use the pretrained data instead. *False* will train through that step.\n",
        "\n",
        "Top to bottom, this whole notebook takes around ~4 hours to train with all 3 skips set to *False*. \n"
      ]
    },
    {
      "cell_type": "code",
      "metadata": {
        "trusted": true,
        "_uuid": "e28a40aeead3dbcd4590a3f25cc97e57d3d4907a",
        "id": "vDXwcKAaDrrg",
        "colab_type": "code",
        "colab": {}
      },
      "source": [
        "PART_1_SKIP = True\n",
        "PART_2_SKIP = True\n",
        "PART_3_SKIP = True"
      ],
      "execution_count": 0,
      "outputs": []
    },
    {
      "cell_type": "markdown",
      "metadata": {
        "_uuid": "46696d880dbca24468726cc0d9c480340ddfdebb",
        "id": "oP6Jp1u8Drrl",
        "colab_type": "text"
      },
      "source": [
        "# AI Dance Part 1: Video Preprocessing\n",
        "\n",
        "We will be using the same video of training as in the youtube video. It is a >1 hour of go-go dancing female silhouettes. This is ideal as most other green screen dancing videos are too short, loops, and/or messy for easy preprocessing. While not greatly varied, this dancing is not looped and we do not have to cobble together multiple dance videos (which might also require different preprocessing steps for each).\n",
        "\n",
        "Here is the original video: https://www.youtube.com/watch?v=NdSqAAT28v0"
      ]
    },
    {
      "cell_type": "code",
      "metadata": {
        "id": "2p98NzS3D58Y",
        "colab_type": "code",
        "colab": {}
      },
      "source": [
        "# upload kaggle.json file for downloading the dataset\n",
        "try:\n",
        "  from google.colab import files\n",
        "  files.upload()\n",
        "  print('Uploading Completed.!')\n",
        "except Exception as ex:\n",
        "  print(f'Uploading Kaggle.json failed due to exception {ex}')"
      ],
      "execution_count": 0,
      "outputs": []
    },
    {
      "cell_type": "code",
      "metadata": {
        "id": "ywb6RNkKER8i",
        "colab_type": "code",
        "colab": {}
      },
      "source": [
        "# move the kaggle.json to ~/.kaggle directory and add permissions to the same kaggle.json file\n",
        "!mkdir ~/.kaggle\n",
        "!cp kaggle.json ~/.kaggle\n",
        "!chmod 600 ~/.kagge/kaggle.json"
      ],
      "execution_count": 0,
      "outputs": []
    },
    {
      "cell_type": "code",
      "metadata": {
        "id": "3-TcC_IjEgYs",
        "colab_type": "code",
        "colab": {}
      },
      "source": [
        "# Download the dataset\n",
        "!kaggle datasets download -d valkling/shadow-dancers-videos"
      ],
      "execution_count": 0,
      "outputs": []
    },
    {
      "cell_type": "code",
      "metadata": {
        "_uuid": "8f2839f25d086af736a60e9eeb907d3b93b6e0e5",
        "_cell_guid": "b1076dfc-b9ad-4769-8c92-a6c4dae69d19",
        "trusted": true,
        "id": "xiu28M1JDrrn",
        "colab_type": "code",
        "colab": {}
      },
      "source": [
        "import numpy as np\n",
        "import pandas as pd\n",
        "import cv2\n",
        "import matplotlib.pyplot as plt\n",
        "\n",
        "import skimage\n",
        "from PIL import Image\n",
        "from skimage.io import imread, imshow, imread_collection, concatenate_images\n",
        "from skimage.transform import resize\n",
        "from skimage.util import crop, pad\n",
        "from skimage.morphology import label\n",
        "from skimage.color import rgb2gray, gray2rgb\n",
        "\n",
        "import os\n",
        "\n",
        "import zipfile\n",
        "z = zipfile.ZipFile(\"Dancer_Images.zip\", \"w\")"
      ],
      "execution_count": 0,
      "outputs": []
    },
    {
      "cell_type": "code",
      "metadata": {
        "_cell_guid": "79c7e3d0-c299-4dcb-8224-4455121ee9b0",
        "_uuid": "d629ff2d2480ee46fbb7e2d37f6b5fab8052498a",
        "trusted": true,
        "id": "hXES6xitDrrq",
        "colab_type": "code",
        "colab": {}
      },
      "source": [
        "cap = cv2.VideoCapture('../input/Shadow Dancers 1 Hour.mp4')\n",
        "print(cap.get(cv2.CAP_PROP_FPS))"
      ],
      "execution_count": 0,
      "outputs": []
    },
    {
      "cell_type": "markdown",
      "metadata": {
        "_uuid": "1838750ee30361440e445e3e5fbad019fc1ec925",
        "id": "TYXq74UqDrrt",
        "colab_type": "text"
      },
      "source": [
        "## Preprocess the Video\n",
        "\n",
        "In this step we will take each frame in the video and add them to a zip file in sequence. We will also preprocess the frames in the following way to save space and make it easier for are models to process them later:\n",
        "\n",
        "-Only take every other frame: We don't need every frame and will mean that we won't need to use as many frames to look further back in time during with the RNN model later.\n",
        "\n",
        "-Turn the image to grayscale: Don't need color channels at all to capture a shadow.\n",
        "\n",
        "-Resize the image to 64 by 96 pixels: Much smaller file size and 64 by 96 is easily divided which makes it easier to structure the autoencoder without data loss later\n",
        "\n",
        "-Make it binary: turn the lighter pixels white and the darker pixels black. This simplifies the input to the most important pixels. (The blockiness gets evened out as we go through the next sections.)\n"
      ]
    },
    {
      "cell_type": "code",
      "metadata": {
        "trusted": true,
        "_uuid": "68a0277fca1577fa2581fede0de7f81c814e3f85",
        "id": "Vp_oL0adDrru",
        "colab_type": "code",
        "colab": {}
      },
      "source": [
        "%%time\n",
        "\n",
        "if PART_1_SKIP == False:\n",
        "    try:\n",
        "        if not os.path.exists('data'):\n",
        "            os.makedirs('data')\n",
        "    except OSError:\n",
        "        print ('Error: Creating directory of data')\n",
        "\n",
        "    currentFrame = 0\n",
        "    count = 0\n",
        "    TRAIN_SIZE = 27000\n",
        "    FRAME_SKIP = 2\n",
        "    IMG_WIDTH = 96\n",
        "    IMG_HEIGHT = 64\n",
        "    IMG_CHANNELS = 1\n",
        "    X_train = np.zeros((TRAIN_SIZE, IMG_HEIGHT, IMG_WIDTH, IMG_CHANNELS), dtype='float32')\n",
        "    \n",
        "    video = cv2.VideoWriter('Simple_Shadow_Dancer_Video.avi',cv2.VideoWriter_fourcc(*\"MJPG\"), 30, (IMG_WIDTH, IMG_HEIGHT), False)\n",
        "\n",
        "    while(count < TRAIN_SIZE):\n",
        "        try:\n",
        "            ret, frame = cap.read()\n",
        "\n",
        "            if currentFrame % FRAME_SKIP == 0:\n",
        "                count += 1\n",
        "                if count % int(TRAIN_SIZE/10) == 0:\n",
        "                    print(str((count/TRAIN_SIZE)*100)+\"% done\")\n",
        "                # preprocess frames\n",
        "                img = frame\n",
        "                img = rgb2gray(img)\n",
        "                img = resize(img, (IMG_HEIGHT, IMG_WIDTH, IMG_CHANNELS), mode='constant', preserve_range=True)\n",
        "                img[img > 0.2] = 255\n",
        "                img[img <= 0.2] = 0\n",
        "                # save frame to zip and new video sample\n",
        "                name = './data/frame' + str(count) + '.jpg'\n",
        "                cv2.imwrite(name, img)\n",
        "                video.write(gray2rgb(img.astype('uint8')))\n",
        "                z.write(name)\n",
        "                os.remove(name)\n",
        "                # save image to training set if training directly to part 2\n",
        "                img = img.astype('float32') / 255.\n",
        "                X_train[count] = img\n",
        "        except:\n",
        "            print('Frame error')\n",
        "            break\n",
        "        currentFrame += 1\n",
        "\n",
        "    print(str(count)+\" Frames collected\")\n",
        "    cap.release()\n",
        "    z.close()\n",
        "    video.release()"
      ],
      "execution_count": 0,
      "outputs": []
    },
    {
      "cell_type": "markdown",
      "metadata": {
        "_uuid": "a473cf1986a3dc8006543582366832619872f758",
        "id": "GJEPg8sCDrrx",
        "colab_type": "text"
      },
      "source": [
        "## Part 1 Results\n",
        "\n",
        "The dancer comes out clearly but a bit blocky. There is a bit of dirt in the frames but not too much and less than in the youtube video. The arms occasionally clip during quick motions, but that happens a lot in the original video as well just from the normal green screen clipping.\n",
        "\n",
        "### Possible Improvements\n",
        "\n",
        "- The frames of black and dirt as the video transitions to new dancers could be controlled and cleaned for\n",
        "\n",
        "- Changing the binary threshold from 0.2. This can be a tradeoff between getting more of the dancer's pixels and picking up more dirt from the background.\n",
        "\n",
        "- To that effect, careful use of Image thresholding packages might work to cut out the dancer from the background too (but also might not work due to the constantly changing background in the video)\n",
        "\n",
        "- It is always an option to take larger and/or more frames of dancing for training, as long as we still got memory for it.\n"
      ]
    },
    {
      "cell_type": "markdown",
      "metadata": {
        "trusted": true,
        "_uuid": "4425ec9e9d5ca07fae0d619036e0cd1abc551aeb",
        "id": "flEzbl8hDrr2",
        "colab_type": "text"
      },
      "source": [
        "# AI Dance Part 2: Autoencoder Compression\n",
        "\n",
        "Now that we have the preprocessed frames from the shadow dancer video, we will still need to compress them much further to fit them into our RNN model. Among the many uses of autoencoders is making specialized compression models. In this section, we will train an autoencoder on our dance images and use it to compress the images into a much smaller numpy array, saving the model so that we can decode the images later."
      ]
    },
    {
      "cell_type": "code",
      "metadata": {
        "trusted": true,
        "_uuid": "e9fadad975c40f14b1de44a7ce157736a5ed721b",
        "id": "CUSw4bKdDrr4",
        "colab_type": "code",
        "colab": {}
      },
      "source": [
        "import os\n",
        "import sys\n",
        "import random\n",
        "import warnings\n",
        "from pylab import imshow, show, get_cmap\n",
        "\n",
        "import numpy as np\n",
        "import pandas as pd\n",
        "\n",
        "import matplotlib.pyplot as plt\n",
        "\n",
        "from tqdm import tqdm\n",
        "from itertools import chain\n",
        "import skimage\n",
        "from PIL import Image\n",
        "from skimage.io import imread, imshow, imread_collection, concatenate_images\n",
        "from skimage.transform import resize\n",
        "from skimage.util import crop, pad\n",
        "from skimage.morphology import label\n",
        "\n",
        "from keras.models import Model, load_model, Sequential\n",
        "from keras.layers import Input, Dense, UpSampling2D, Flatten, Reshape\n",
        "from keras.layers.core import Dropout, Lambda\n",
        "from keras.layers.convolutional import Conv2D, Conv2DTranspose\n",
        "from keras.layers.pooling import MaxPooling2D\n",
        "from keras.layers.merge import concatenate\n",
        "from keras.callbacks import EarlyStopping, ModelCheckpoint, ReduceLROnPlateau, Callback\n",
        "from keras import backend as K\n",
        "import tensorflow as tf\n",
        "\n",
        "warnings.filterwarnings('ignore', category=UserWarning, module='skimage')\n",
        "seed = 42\n",
        "random.seed = seed\n",
        "np.random.seed = seed"
      ],
      "execution_count": 0,
      "outputs": []
    },
    {
      "cell_type": "markdown",
      "metadata": {
        "_uuid": "fd7d03ced248473ffa6b3e847d3965e41c73b465",
        "id": "SDOhkKrbDrr9",
        "colab_type": "text"
      },
      "source": [
        "## Read in Images"
      ]
    },
    {
      "cell_type": "code",
      "metadata": {
        "trusted": true,
        "_uuid": "95621e3de72f8b9b591feb7b9d8c660439678347",
        "id": "Dqevoca1Drr-",
        "colab_type": "code",
        "colab": {}
      },
      "source": [
        "%%time\n",
        "if PART_1_SKIP:\n",
        "    IMG_WIDTH = 96\n",
        "    IMG_HEIGHT = 64\n",
        "    IMG_CHANNELS = 1\n",
        "    INPUT_SHAPE=(IMG_HEIGHT, IMG_WIDTH, IMG_CHANNELS)\n",
        "    TRAIN_PATH = '../input/dancer_images/data/'\n",
        "    train_ids = next(os.walk(TRAIN_PATH))[2]\n",
        "    X_train = np.zeros((len(train_ids), IMG_HEIGHT, IMG_WIDTH, IMG_CHANNELS), dtype='float32')\n",
        "    missing_count = 0\n",
        "    print('Getting training images ... ')\n",
        "#     sys.stdout.flush()\n",
        "    for n, id_ in tqdm(enumerate(train_ids), total=len(train_ids)):\n",
        "        path = TRAIN_PATH +'frame'+ str(n+1) + '.jpg'\n",
        "        try:\n",
        "            img = imread(path)\n",
        "            img = img.astype('float32') / 255.\n",
        "            img = resize(img, (IMG_HEIGHT, IMG_WIDTH, IMG_CHANNELS), mode='constant', preserve_range=True)\n",
        "            X_train[n-missing_count] = img\n",
        "        except:\n",
        "            print(\" Problem with: \"+path)\n",
        "            missing_count += 1\n",
        "\n",
        "    print(\"Done! total missing: \"+ str(missing_count))\n",
        "else:\n",
        "    INPUT_SHAPE=(IMG_HEIGHT, IMG_WIDTH, IMG_CHANNELS)"
      ],
      "execution_count": 0,
      "outputs": []
    },
    {
      "cell_type": "code",
      "metadata": {
        "trusted": true,
        "_uuid": "3abe67ac84660e916a8005156e9401fa0f4a19ef",
        "id": "GntnDH6VDrsB",
        "colab_type": "code",
        "colab": {}
      },
      "source": [
        "for n in range(10,15):\n",
        "    imshow(X_train[n].reshape(IMG_HEIGHT,IMG_WIDTH))\n",
        "    plt.show()"
      ],
      "execution_count": 0,
      "outputs": []
    },
    {
      "cell_type": "markdown",
      "metadata": {
        "trusted": true,
        "_uuid": "60cc6b514f1207459c86358e43158951e091ad74",
        "id": "DV80w-DADrsG",
        "colab_type": "text"
      },
      "source": [
        "## Create the Models\n",
        "\n",
        "In addition to the Autoencoder model, we will also prepare an encoder and decoder for later. It is important to give the layers the same unique names and shapes in all 3 as we will be using the keras load_weights by_name option to copy our trained Autoencoder weights to each respective layer later."
      ]
    },
    {
      "cell_type": "code",
      "metadata": {
        "trusted": true,
        "_uuid": "c7105532c33696673daf47497eedc77fbcc2f788",
        "id": "8Fk78c9lDrsH",
        "colab_type": "code",
        "colab": {}
      },
      "source": [
        "def Encoder():\n",
        "    inp = Input(shape=INPUT_SHAPE)\n",
        "    x = Conv2D(128, (4, 4), activation='elu', padding='same',name='encode1')(inp)\n",
        "    x = Conv2D(64, (3, 3), activation='elu', padding='same',name='encode2')(x)\n",
        "    x = MaxPooling2D((2, 2), padding='same')(x)\n",
        "    x = Conv2D(64, (3, 3), activation='elu', padding='same',name='encode3')(x)\n",
        "    x = Conv2D(32, (2, 2), activation='elu', padding='same',name='encode4')(x)\n",
        "    x = MaxPooling2D((2, 2), padding='same')(x)\n",
        "    x = Conv2D(64, (3, 3), activation='elu', padding='same',name='encode5')(x)\n",
        "    x = Conv2D(32, (2, 2), activation='elu', padding='same',name='encode6')(x)\n",
        "    x = MaxPooling2D((2, 2), padding='same')(x)\n",
        "    x = Conv2D(64, (3, 3), activation='elu', padding='same',name='encode7')(x)\n",
        "    x = Conv2D(32, (2, 2), activation='elu', padding='same',name='encode8')(x)\n",
        "    x = MaxPooling2D((2, 2), padding='same')(x)\n",
        "    x = Conv2D(32, (3, 3), activation='elu', padding='same',name='encode9')(x)\n",
        "    x = Flatten()(x)\n",
        "    x = Dense(256, activation='elu',name='encode10')(x)\n",
        "    encoded = Dense(128, activation='sigmoid',name='encode11')(x)\n",
        "    return Model(inp, encoded)\n",
        "\n",
        "encoder = Encoder()\n",
        "encoder.summary()"
      ],
      "execution_count": 0,
      "outputs": []
    },
    {
      "cell_type": "code",
      "metadata": {
        "trusted": true,
        "_uuid": "5c48e71bde46600bedbc624b94638652c45043a7",
        "id": "xJdQORWyDrsK",
        "colab_type": "code",
        "colab": {}
      },
      "source": [
        "D_INPUT_SHAPE=[128]\n",
        "def Decoder():\n",
        "    inp = Input(shape=D_INPUT_SHAPE, name='decoder')\n",
        "    x = Dense(256, activation='elu', name='decode1')(inp)\n",
        "    x = Dense(768, activation='elu', name='decode2')(x)\n",
        "    x = Reshape((4, 6, 32))(x)\n",
        "    x = Conv2D(32, (2, 2), activation='elu', padding='same', name='decode3')(x)\n",
        "    x = Conv2D(64, (3, 3), activation='elu', padding='same', name='decode4')(x)\n",
        "    x = UpSampling2D((2, 2))(x)\n",
        "    x = Conv2D(32, (2, 2), activation='elu', padding='same', name='decode5')(x)\n",
        "    x = Conv2D(64, (3, 3), activation='elu', padding='same', name='decode6')(x)\n",
        "    x = UpSampling2D((2, 2))(x)\n",
        "    x = Conv2D(64, (2, 2), activation='elu', padding='same', name='decode7')(x)\n",
        "    x = Conv2D(128, (3, 3), activation='elu', padding='same', name='decode8')(x)\n",
        "    x = UpSampling2D((2, 2))(x)\n",
        "    x = Conv2D(64, (2, 2), activation='elu', padding='same', name='decode9')(x)\n",
        "    x = Conv2D(64, (4, 4), activation='elu', padding='same', name='decode10')(x)\n",
        "    x = Conv2D(128, (3, 3), activation='elu', padding='same', name='decode11')(x)\n",
        "    x = UpSampling2D((2, 2))(x)\n",
        "    x = Conv2D(64, (4, 4), activation='elu', padding='same', name='decode12')(x)\n",
        "    x = Conv2D(32, (3, 3), activation='elu', padding='same', name='decode13')(x)\n",
        "    x = Conv2D(16, (2, 2), activation='elu', padding='same', name='decode14')(x)\n",
        "    decoded = Conv2D(1, (2, 2), activation='sigmoid', padding='same', name='decode15')(x)\n",
        "    return Model(inp, decoded)\n",
        "\n",
        "decoder = Decoder()\n",
        "decoder.summary()"
      ],
      "execution_count": 0,
      "outputs": []
    },
    {
      "cell_type": "code",
      "metadata": {
        "trusted": true,
        "_uuid": "993d9ed2501710c1d5bd5869425199d1e45a3ea2",
        "id": "_kDIFsPaDrsN",
        "colab_type": "code",
        "colab": {}
      },
      "source": [
        "def Autoencoder():\n",
        "    inp = Input(shape=INPUT_SHAPE)\n",
        "    x = Conv2D(128, (4, 4), activation='elu', padding='same',name='encode1')(inp)\n",
        "    x = Conv2D(64, (3, 3), activation='elu', padding='same',name='encode2')(x)\n",
        "    x = MaxPooling2D((2, 2), padding='same')(x)\n",
        "    x = Conv2D(64, (3, 3), activation='elu', padding='same',name='encode3')(x)\n",
        "    x = Conv2D(32, (2, 2), activation='elu', padding='same',name='encode4')(x)\n",
        "    x = MaxPooling2D((2, 2), padding='same')(x)\n",
        "    x = Conv2D(64, (3, 3), activation='elu', padding='same',name='encode5')(x)\n",
        "    x = Conv2D(32, (2, 2), activation='elu', padding='same',name='encode6')(x)\n",
        "    x = MaxPooling2D((2, 2), padding='same')(x)\n",
        "    x = Conv2D(64, (3, 3), activation='elu', padding='same',name='encode7')(x)\n",
        "    x = Conv2D(32, (2, 2), activation='elu', padding='same',name='encode8')(x)\n",
        "    x = MaxPooling2D((2, 2), padding='same')(x)\n",
        "    x = Conv2D(32, (3, 3), activation='elu', padding='same',name='encode9')(x)\n",
        "    x = Flatten()(x)\n",
        "    x = Dense(256, activation='elu',name='encode10')(x)\n",
        "    encoded = Dense(128, activation='sigmoid',name='encode11')(x)\n",
        "    x = Dense(256, activation='elu', name='decode1')(encoded)\n",
        "    x = Dense(768, activation='elu', name='decode2')(x)\n",
        "    x = Reshape((4, 6, 32))(x)\n",
        "    x = Conv2D(32, (2, 2), activation='elu', padding='same', name='decode3')(x)\n",
        "    x = Conv2D(64, (3, 3), activation='elu', padding='same', name='decode4')(x)\n",
        "    x = UpSampling2D((2, 2))(x)\n",
        "    x = Conv2D(32, (2, 2), activation='elu', padding='same', name='decode5')(x)\n",
        "    x = Conv2D(64, (3, 3), activation='elu', padding='same', name='decode6')(x)\n",
        "    x = UpSampling2D((2, 2))(x)\n",
        "    x = Conv2D(64, (2, 2), activation='elu', padding='same', name='decode7')(x)\n",
        "    x = Conv2D(128, (3, 3), activation='elu', padding='same', name='decode8')(x)\n",
        "    x = UpSampling2D((2, 2))(x)\n",
        "    x = Conv2D(64, (2, 2), activation='elu', padding='same', name='decode9')(x)\n",
        "    x = Conv2D(64, (4, 4), activation='elu', padding='same', name='decode10')(x)\n",
        "    x = Conv2D(128, (3, 3), activation='elu', padding='same', name='decode11')(x)\n",
        "    x = UpSampling2D((2, 2))(x)\n",
        "    x = Conv2D(64, (4, 4), activation='elu', padding='same', name='decode12')(x)\n",
        "    x = Conv2D(32, (3, 3), activation='elu', padding='same', name='decode13')(x)\n",
        "    x = Conv2D(16, (2, 2), activation='elu', padding='same', name='decode14')(x)\n",
        "    decoded = Conv2D(1, (2, 2), activation='sigmoid', padding='same', name='decode15')(x)\n",
        "    return Model(inp, decoded)\n",
        "\n",
        "model = Autoencoder()\n",
        "model.compile(optimizer='adam', loss='mean_squared_error')\n",
        "model.summary()"
      ],
      "execution_count": 0,
      "outputs": []
    },
    {
      "cell_type": "markdown",
      "metadata": {
        "trusted": true,
        "_uuid": "c153faefc3829a4e2678c2a6a45a8ca13337a77c",
        "id": "jpiabzAqDrsP",
        "colab_type": "text"
      },
      "source": [
        "## Callbacks"
      ]
    },
    {
      "cell_type": "code",
      "metadata": {
        "trusted": true,
        "_uuid": "003d1d68933b58f824af9e22fcd563b3a2d2c395",
        "id": "jCTbbNbPDrsQ",
        "colab_type": "code",
        "colab": {}
      },
      "source": [
        "learning_rate_reduction = ReduceLROnPlateau(monitor='val_loss', \n",
        "                                            patience=4, \n",
        "                                            verbose=1, \n",
        "                                            factor=0.5,\n",
        "                                            min_lr=0.00001)\n",
        "\n",
        "checkpoint = ModelCheckpoint(\"Dancer_Auto_Model.hdf5\",\n",
        "                             save_best_only=True,\n",
        "                             monitor='val_loss',\n",
        "                             mode='min')\n",
        "\n",
        "early_stopping = EarlyStopping(monitor='val_loss',\n",
        "                              patience=8,\n",
        "                              verbose=1,\n",
        "                              mode='min',\n",
        "                              restore_best_weights=True)"
      ],
      "execution_count": 0,
      "outputs": []
    },
    {
      "cell_type": "markdown",
      "metadata": {
        "_uuid": "80877dc08cddf1a8bcdccf94282886e2f785dca1",
        "id": "ZUAi8ApbDrsT",
        "colab_type": "text"
      },
      "source": [
        "### Custom Image Sample Callback\n",
        "\n",
        "Here is a custom callback I made named ImgSample. It tests the result of the autoencoder after every epoch by desplaying an sample image. The goal is to have the dancer come into focus as clearly as possible."
      ]
    },
    {
      "cell_type": "code",
      "metadata": {
        "trusted": true,
        "_uuid": "1f291fc46740a3757c26fc559af3f06f32f1216d",
        "id": "okL4uQnHDrsW",
        "colab_type": "code",
        "colab": {}
      },
      "source": [
        "class ImgSample(Callback):\n",
        "\n",
        "    def __init__(self):\n",
        "       super(Callback, self).__init__() \n",
        "\n",
        "    def on_epoch_end(self, epoch, logs={}):\n",
        "        sample_img = X_train[50]\n",
        "        sample_img = sample_img.reshape(1, IMG_HEIGHT, IMG_WIDTH, 1)\n",
        "        sample_img = self.model.predict(sample_img)[0]\n",
        "        imshow(sample_img.reshape(IMG_HEIGHT,IMG_WIDTH))\n",
        "        plt.show()\n",
        "\n",
        "\n",
        "imgsample = ImgSample()\n",
        "model_callbacks = [learning_rate_reduction, checkpoint, early_stopping, imgsample]\n",
        "imshow(X_train[50].reshape(IMG_HEIGHT,IMG_WIDTH))"
      ],
      "execution_count": 0,
      "outputs": []
    },
    {
      "cell_type": "markdown",
      "metadata": {
        "trusted": true,
        "_uuid": "f37b8ace88e74263562bb04c3c91ceae4ed0e934",
        "id": "kz4CgwfUDrsZ",
        "colab_type": "text"
      },
      "source": [
        "## Train the Autoencoder"
      ]
    },
    {
      "cell_type": "code",
      "metadata": {
        "trusted": true,
        "_uuid": "cf4b59bcbb558d6052af287a21d85517b57c18d9",
        "id": "Q-IE4S63Drsa",
        "colab_type": "code",
        "colab": {}
      },
      "source": [
        "%%time\n",
        "if PART_2_SKIP == False:\n",
        "    model.fit(X_train, X_train,\n",
        "              epochs=30, \n",
        "              batch_size=32,\n",
        "              verbose=2,\n",
        "              validation_split=0.05,\n",
        "            callbacks=model_callbacks)\n",
        "else:\n",
        "    model = load_model('../input/Dancer_Auto_Model.hdf5')\n",
        "    model.load_weights(\"../input/Dancer_Auto_Weights.hdf5\")"
      ],
      "execution_count": 0,
      "outputs": []
    },
    {
      "cell_type": "markdown",
      "metadata": {
        "trusted": true,
        "_uuid": "d70529bb6c9e2bad565675ebf96a2c35832a85b8",
        "id": "Py7pqZz7Drse",
        "colab_type": "text"
      },
      "source": [
        "## Sample the Autoencoder Results\n",
        "\n",
        "The reconstructions look pretty close to the originals, then the autoencoder works."
      ]
    },
    {
      "cell_type": "code",
      "metadata": {
        "trusted": true,
        "_uuid": "de486a2f5f9a73a80c171db7c935dc975237c43a",
        "id": "9RGbuw5sDrsf",
        "colab_type": "code",
        "colab": {}
      },
      "source": [
        "decoded_imgs = model.predict(X_train)"
      ],
      "execution_count": 0,
      "outputs": []
    },
    {
      "cell_type": "code",
      "metadata": {
        "trusted": true,
        "_uuid": "f92d7b1851013a9a88437021ffd5c1399f1655b2",
        "id": "pDmZ6TvADrsi",
        "colab_type": "code",
        "colab": {}
      },
      "source": [
        "plt.figure(figsize=(20, 4))\n",
        "for i in range(5,10):\n",
        "    # original\n",
        "    plt.subplot(2, 10, i + 1)\n",
        "    plt.imshow(X_train[i].reshape(IMG_HEIGHT, IMG_WIDTH))\n",
        "    plt.axis('off')\n",
        " \n",
        "    # reconstruction\n",
        "    plt.subplot(2, 10, i + 1 + 10)\n",
        "    plt.imshow(decoded_imgs[i].reshape(IMG_HEIGHT, IMG_WIDTH))\n",
        "    plt.axis('off')\n",
        " \n",
        "plt.tight_layout()\n",
        "plt.show()"
      ],
      "execution_count": 0,
      "outputs": []
    },
    {
      "cell_type": "markdown",
      "metadata": {
        "trusted": true,
        "_uuid": "1ac5682588df830249d4fad9756ebfdc6e86a8ed",
        "id": "r4LKESUoDrsn",
        "colab_type": "text"
      },
      "source": [
        "## Save Models and Create Encoded Dataset"
      ]
    },
    {
      "cell_type": "code",
      "metadata": {
        "trusted": true,
        "_uuid": "a6a3dda7ab3987b4d7e782304b6e5c50b9d92b75",
        "id": "-nsipU2fDrso",
        "colab_type": "code",
        "colab": {}
      },
      "source": [
        "model.save('Dancer_Auto_Model.hdf5')\n",
        "model.save_weights(\"Dancer_Auto_Weights.hdf5\")"
      ],
      "execution_count": 0,
      "outputs": []
    },
    {
      "cell_type": "code",
      "metadata": {
        "trusted": true,
        "_uuid": "cbefa2f11f584a5b32d94a2691ee98d61d15bfed",
        "id": "iX7int1oDrsv",
        "colab_type": "code",
        "colab": {}
      },
      "source": [
        "encoder = Encoder()\n",
        "decoder = Decoder()\n",
        "\n",
        "encoder.load_weights(\"Dancer_Auto_Weights.hdf5\", by_name=True)\n",
        "decoder.load_weights(\"Dancer_Auto_Weights.hdf5\", by_name=True)\n",
        "\n",
        "\n",
        "decoder.save('Dancer_Decoder_Model.hdf5') \n",
        "encoder.save('Dancer_Encoder_Model.hdf5')\n",
        "\n",
        "decoder.save_weights(\"Dancer_Decoder_Weights.hdf5\")\n",
        "encoder.save_weights(\"Dancer_Encoder_Weights.hdf5\")"
      ],
      "execution_count": 0,
      "outputs": []
    },
    {
      "cell_type": "code",
      "metadata": {
        "trusted": true,
        "_uuid": "4d31cbe4d8c20fae447dddced25c60127f6276d6",
        "id": "ppf-E4lgDrsy",
        "colab_type": "code",
        "colab": {}
      },
      "source": [
        "encoder_imgs = encoder.predict(X_train)\n",
        "print(encoder_imgs.shape)\n",
        "np.save('Encoded_Dancer.npy',encoder_imgs)"
      ],
      "execution_count": 0,
      "outputs": []
    },
    {
      "cell_type": "markdown",
      "metadata": {
        "_uuid": "f304b9f191b85c5dd0ba7d46b5dbe6641fa2d97a",
        "id": "kt25VYA5Drs3",
        "colab_type": "text"
      },
      "source": [
        "## Decode a Sample to Double Check Results\n",
        "\n",
        "If the encoder and decoder models are working correctly, the dancer should appear like in the reconstruction of the autoencoder above."
      ]
    },
    {
      "cell_type": "code",
      "metadata": {
        "trusted": true,
        "_uuid": "92bef563454cc433476260cb05637dc80dd69519",
        "id": "HCyENy8_Drs4",
        "colab_type": "code",
        "colab": {}
      },
      "source": [
        "decoded_imgs = decoder.predict(encoder_imgs[0:11])\n",
        "\n",
        "plt.figure(figsize=(20, 4))\n",
        "for i in range(5,10):\n",
        "    # reconstruction\n",
        "    plt.subplot(1, 10, i + 1)\n",
        "    plt.imshow(decoded_imgs[i].reshape(IMG_HEIGHT, IMG_WIDTH))\n",
        "    plt.axis('off')\n",
        " \n",
        "plt.tight_layout()\n",
        "plt.show()"
      ],
      "execution_count": 0,
      "outputs": []
    },
    {
      "cell_type": "markdown",
      "metadata": {
        "_uuid": "3398154f0b8323b19107c9e2e564e7908270140c",
        "id": "B_f4yq89Drs7",
        "colab_type": "text"
      },
      "source": [
        "## Part 2 Results\n",
        "\n",
        "The results are really good, there is only maybe a touch of blurriness around the hands after decoding. The image actually looks better than the binary image we started with. We can confidently proceed knowing that we can encode and decode the images without issue. I am quite happy with these results\n",
        "\n",
        "### Possible Improvements\n",
        "\n",
        "- The autoencoder works so well that we could do more without much issue, either compress further or use more detailed images.\n",
        "\n",
        "- The Autoencoder could be used to make a much much larger training set. Even if the uncompressed images get to big for the memory limit, it is possible to just train the autoencoder on a subset of the images then compress the whole set after. A 128 array is not that big, I don't foresee resource exhaustion errors being an major issue, even for much larger datasets.\n"
      ]
    },
    {
      "cell_type": "markdown",
      "metadata": {
        "_uuid": "7bac1ffe4118aa47c373e6f3ede0cc7163436f3f",
        "id": "TWcIAvJiDrs7",
        "colab_type": "text"
      },
      "source": [
        "# AI Dance Part 3: Train AI w/ RNNs\n",
        "\n",
        "If you have read any of my text generating notebooks or know text generating AIs this next part will be familiar with you. If not, here is one of my related notebooks: \n",
        "\n",
        "The Pythonic Python Script for Making Monty Python Scripts: https://www.kaggle.com/valkling/pythonicpythonscript4makingmontypythonscripts\n",
        "\n",
        "For the dancing AI, the technique is pretty much the same. We will use our compressed pictures to make n length sequences as input that the model will use to predict the n+1 frame in the sequence. The differences are:\n",
        "\n",
        "- The input/outputs will not be in one-hot encoding but rather an array of floats between 0 and 1\n",
        "\n",
        "- We will need a larger brain for our model to make it work.\n",
        "\n",
        "- We will need to decode the results after to turn them into a usable video.\n"
      ]
    },
    {
      "cell_type": "code",
      "metadata": {
        "trusted": true,
        "_uuid": "e791406b7e75baaf3c188f149b48be26d8880c2b",
        "id": "jqeeZKk0Drs8",
        "colab_type": "code",
        "colab": {}
      },
      "source": [
        "import numpy as np\n",
        "import pandas as pd\n",
        "import keras as K\n",
        "import random\n",
        "import sqlite3\n",
        "import cv2\n",
        "import os\n",
        "\n",
        "from skimage.color import rgb2gray, gray2rgb\n",
        "from skimage.transform import resize\n",
        "from skimage.io import imread, imshow\n",
        "import matplotlib.pyplot as plt\n",
        "\n",
        "from keras.layers import Input, Dropout, Dense, concatenate, Embedding\n",
        "from keras.layers import Flatten, Activation\n",
        "from keras.optimizers import Adam\n",
        "from keras.models import Model\n",
        "from keras.utils import np_utils\n",
        "\n",
        "from keras.preprocessing import sequence\n",
        "from keras.models import Sequential\n",
        "from keras.models import load_model\n",
        "from keras.layers import LSTM, CuDNNGRU, CuDNNLSTM\n",
        "from keras.layers import MaxPooling1D\n",
        "from keras.callbacks import EarlyStopping, ModelCheckpoint, Callback\n",
        "\n",
        "import warnings\n",
        "warnings.filterwarnings('ignore')"
      ],
      "execution_count": 0,
      "outputs": []
    },
    {
      "cell_type": "markdown",
      "metadata": {
        "trusted": true,
        "_uuid": "083ce4a77e58c1b37645558bab5ff4e6fa1a63af",
        "id": "FZ_Y0uQpDrs_",
        "colab_type": "text"
      },
      "source": [
        "## Read in Data\n",
        "\n",
        "When processing this type of model on text data, each character is expressed in one hot arrays between ~50-100, (depending on the unique characters in the text to consider). Our data is in 128 numpy arrays, so it is not that much more load on our model to consider our compressed images over single characters of a text document."
      ]
    },
    {
      "cell_type": "code",
      "metadata": {
        "trusted": true,
        "_uuid": "fb02bd8ff1ca4680fc3c8730a968a4dd894d9846",
        "id": "1iuQfFcTDrtA",
        "colab_type": "code",
        "colab": {}
      },
      "source": [
        "if PART_2_SKIP:\n",
        "    Dance_Data = np.load('../input/Encoded_Dancer.npy')\n",
        "else:\n",
        "    Dance_Data = encoder_imgs\n",
        "\n",
        "Dance_Data.shape"
      ],
      "execution_count": 0,
      "outputs": []
    },
    {
      "cell_type": "markdown",
      "metadata": {
        "trusted": true,
        "_uuid": "3f7710635c511068585e64f04f56c632c736d84e",
        "id": "fUR5ROLDDrtC",
        "colab_type": "text"
      },
      "source": [
        "## Create Compressed Dance Sequences\n",
        "\n",
        "Our model will look at the last 70 frames and attemp to predict the 71st. As such, sur X variable will be an array of 70 (compressed) frames in sequence and our Y variable will be the 71st frame. This block chops our Dance_Data into such sequences of frames."
      ]
    },
    {
      "cell_type": "code",
      "metadata": {
        "trusted": true,
        "_uuid": "b96175163314b00ebf5b143722164aa731575d7d",
        "id": "rxs7mk-zDrtD",
        "colab_type": "code",
        "colab": {}
      },
      "source": [
        "TRAIN_SIZE = Dance_Data.shape[0]\n",
        "INPUT_SIZE = Dance_Data.shape[1]\n",
        "SEQUENCE_LENGTH = 70\n",
        "\n",
        "X_train = np.zeros((TRAIN_SIZE-SEQUENCE_LENGTH, SEQUENCE_LENGTH, INPUT_SIZE), dtype='float32')\n",
        "Y_train = np.zeros((TRAIN_SIZE-SEQUENCE_LENGTH, INPUT_SIZE), dtype='float32')\n",
        "for i in range(0, TRAIN_SIZE-SEQUENCE_LENGTH, 1 ): \n",
        "    X_train[i] = Dance_Data[i:i + SEQUENCE_LENGTH]\n",
        "    Y_train[i] = Dance_Data[i + SEQUENCE_LENGTH]\n",
        "\n",
        "print(X_train.shape)\n",
        "print(Y_train.shape)"
      ],
      "execution_count": 0,
      "outputs": []
    },
    {
      "cell_type": "markdown",
      "metadata": {
        "trusted": true,
        "_uuid": "3bc8d6588a19f730455efae4f0c3cac53179a373",
        "id": "onFTUb7wDrtG",
        "colab_type": "text"
      },
      "source": [
        "## Create the RNN Model\n",
        "\n",
        "The model is simply 6 LSTM layers stacked on top of each other. While text data only needs around 2-4 LSTM layers to work, the dance data benifits from a few more as the result is not categorical this time and a large brain allows for more \"creativity\"(variation) on the AIs part. (Note: CuDNNLSTM layers are just LSTM layers that automatically optimize for the GPU. They run a lot faster than standard LSTM layers at the cost of customization options)"
      ]
    },
    {
      "cell_type": "code",
      "metadata": {
        "trusted": true,
        "_uuid": "23033cf0d19885511c82107423109f48c7d20dae",
        "id": "-NdS40r_DrtI",
        "colab_type": "code",
        "colab": {}
      },
      "source": [
        "def get_model():\n",
        "    inp = Input(shape=(SEQUENCE_LENGTH, INPUT_SIZE))\n",
        "    x = CuDNNLSTM(512, return_sequences=True,)(inp)\n",
        "    x = CuDNNLSTM(256, return_sequences=True,)(x)\n",
        "    x = CuDNNLSTM(512, return_sequences=True,)(x)\n",
        "    x = CuDNNLSTM(256, return_sequences=True,)(x)\n",
        "    x = CuDNNLSTM(512, return_sequences=True,)(x)\n",
        "    x = CuDNNLSTM(1024,)(x)\n",
        "    x = Dense(512, activation=\"elu\")(x)\n",
        "    x = Dense(256, activation=\"elu\")(x)\n",
        "    outp = Dense(INPUT_SIZE, activation='sigmoid')(x)\n",
        "    \n",
        "    model = Model(inputs=inp, outputs=outp)\n",
        "    model.compile(loss='mse',\n",
        "                  optimizer=Adam(lr=0.0002),\n",
        "                  metrics=['accuracy'],\n",
        "                 )\n",
        "\n",
        "    return model\n",
        "\n",
        "model = get_model()\n",
        "\n",
        "model.summary()"
      ],
      "execution_count": 0,
      "outputs": []
    },
    {
      "cell_type": "markdown",
      "metadata": {
        "trusted": true,
        "_uuid": "be67bf4fcce609462ccb38a5fa0a55cd061fa30b",
        "id": "z6klr71tDrtL",
        "colab_type": "text"
      },
      "source": [
        "## Callbacks"
      ]
    },
    {
      "cell_type": "code",
      "metadata": {
        "trusted": true,
        "_uuid": "9fda16804e30e1f4bee493718945bc61950949ff",
        "id": "WgksryLgDrtM",
        "colab_type": "code",
        "colab": {}
      },
      "source": [
        "checkpoint = ModelCheckpoint(\"Ai_Dance_RNN_Model.hdf5\",\n",
        "                             monitor='loss',\n",
        "                             verbose=1,\n",
        "                             save_best_only=True,\n",
        "                             mode='min')\n",
        "\n",
        "early = EarlyStopping(monitor=\"loss\",\n",
        "                      mode=\"min\",\n",
        "                      patience=3,\n",
        "                     restore_best_weights=True)\n",
        "\n",
        "model_callbacks = [checkpoint, early]"
      ],
      "execution_count": 0,
      "outputs": []
    },
    {
      "cell_type": "markdown",
      "metadata": {
        "_uuid": "f0501b813eed5a7e62f5236e8e6909e206785e2b",
        "id": "cJ_hlGEpDrtP",
        "colab_type": "text"
      },
      "source": [
        "## Train RNN Model"
      ]
    },
    {
      "cell_type": "code",
      "metadata": {
        "trusted": true,
        "_uuid": "71cc588cdfb79866c7516f2ecd641e9ca67308bc",
        "id": "ReSxwMCSDrtQ",
        "colab_type": "code",
        "colab": {}
      },
      "source": [
        "%%time\n",
        "if PART_3_SKIP == False:\n",
        "    model.fit(X_train, Y_train,\n",
        "              batch_size=64,\n",
        "              epochs=60,\n",
        "              verbose=2,\n",
        "              callbacks = model_callbacks)\n",
        "else:\n",
        "    model = load_model('../input/Ai_Dance_RNN_Model.hdf5')\n",
        "    model.load_weights('../input/Ai_Dance_RNN_Weights.hdf5')"
      ],
      "execution_count": 0,
      "outputs": []
    },
    {
      "cell_type": "code",
      "metadata": {
        "trusted": true,
        "_uuid": "d50a001bdda24ab3d8cbb5011b3af5628bf3ed09",
        "id": "B_XIMHgdDrtT",
        "colab_type": "code",
        "colab": {}
      },
      "source": [
        "model.save(\"Ai_Dance_RNN_Model.hdf5\")\n",
        "model.save_weights('Ai_Dance_RNN_Weights.hdf5')"
      ],
      "execution_count": 0,
      "outputs": []
    },
    {
      "cell_type": "markdown",
      "metadata": {
        "trusted": true,
        "_uuid": "a014d09e094e0fe1923d4bda17463b806b7d8460",
        "id": "2qqfXvvEDrtW",
        "colab_type": "text"
      },
      "source": [
        "## Generate New Computer Generated Dances\n",
        "\n",
        "This block generates new dance sequences in the style of the video of DANCE_LENGTH size in frames. It takes a random seed pattern from the training set, predicts the next frame, adds it to the end of the pattern and drops the first frame of the pattern and predicts on the new pattern and so forth. The default DANCE_LENGTH of 6000 frames is 5 minutes of video at 20 FPS.\n",
        "\n",
        "Pretty much the AI will try to accurately duplicate the Dance video but inevitably makes errors, and those errors compound, but is still trained well enough that it ends up making similar, but not quite the same, dances.\n",
        "\n",
        "The LOOPBREAKER is used to add noise to the prediction pattern, replacing a random frame in the pattern with a random frame in the Dance_Data after every LOOPBREAKER frames. This noise can be used to force the AI to change up what it is doing. This can stop undertrained models from looping or overtrained models from duplication the training data too closely. Setting it too low, on the other hand, can cause the results to distort more. It is worth playing around with this setting and is a quick and dirty way to adjust the dance output post training."
      ]
    },
    {
      "cell_type": "code",
      "metadata": {
        "trusted": true,
        "_uuid": "ad3dc49934bdf788d71f4648ef8be08d6e15698f",
        "id": "US9AWrbZDrtX",
        "colab_type": "code",
        "colab": {}
      },
      "source": [
        "%%time\n",
        "DANCE_LENGTH  = 6000\n",
        "LOOPBREAKER = 10\n",
        "\n",
        "x = np.random.randint(0, X_train.shape[0]-1)\n",
        "pattern = X_train[x]\n",
        "outp = np.zeros((DANCE_LENGTH, INPUT_SIZE), dtype='float32')\n",
        "for t in range(DANCE_LENGTH):\n",
        "    x = np.reshape(pattern, (1, pattern.shape[0], pattern.shape[1]))\n",
        "    pred = model.predict(x)\n",
        "    result = pred[0]\n",
        "    outp[t] = result\n",
        "    new_pattern = np.zeros((SEQUENCE_LENGTH, INPUT_SIZE), dtype='float32') \n",
        "    new_pattern[0:SEQUENCE_LENGTH-1] = pattern[1:SEQUENCE_LENGTH]\n",
        "    new_pattern[-1] = result\n",
        "    pattern = np.copy(new_pattern)\n",
        "    ####loopbreaker####\n",
        "    if t % LOOPBREAKER == 0:\n",
        "        pattern[np.random.randint(0, SEQUENCE_LENGTH-10)] = Y_train[np.random.randint(0, Y_train.shape[0]-1)]"
      ],
      "execution_count": 0,
      "outputs": []
    },
    {
      "cell_type": "markdown",
      "metadata": {
        "_uuid": "58a122956966d4aa2cb8385b0c766d214b1ac8fd",
        "id": "lWuHPtgKDrtb",
        "colab_type": "text"
      },
      "source": [
        "## Output the Dance\n",
        "\n",
        "Before we can save the video, we need to decode the frames back into images using the decoder we made in part 2."
      ]
    },
    {
      "cell_type": "code",
      "metadata": {
        "trusted": true,
        "_uuid": "6bfa311b31fe217ff59447c7a63421a03e767335",
        "id": "dc9BqP_aDrtb",
        "colab_type": "code",
        "colab": {}
      },
      "source": [
        "if PART_2_SKIP:\n",
        "    Decoder = load_model('../input/Dancer_Decoder_Model.hdf5')\n",
        "    Decoder.load_weights('../input/Dancer_Decoder_Weights.hdf5')\n",
        "else:\n",
        "    Decoder = load_model('Dancer_Decoder_Model.hdf5')\n",
        "    Decoder.load_weights('Dancer_Decoder_Weights.hdf5')\n",
        "\n",
        "Dance_Output = Decoder.predict(outp)\n",
        "Dance_Output.shape"
      ],
      "execution_count": 0,
      "outputs": []
    },
    {
      "cell_type": "code",
      "metadata": {
        "trusted": true,
        "_uuid": "05f4d54e486a8b5e0a49073e6053bf7c9c95442c",
        "id": "ttXA_tqhDrte",
        "colab_type": "code",
        "colab": {}
      },
      "source": [
        "IMG_HEIGHT = Dance_Output[0].shape[0]\n",
        "IMG_WIDTH = Dance_Output[0].shape[1]\n",
        "\n",
        "for row in Dance_Output[0:10]:\n",
        "    imshow(row.reshape(IMG_HEIGHT,IMG_WIDTH))\n",
        "    plt.show()"
      ],
      "execution_count": 0,
      "outputs": []
    },
    {
      "cell_type": "markdown",
      "metadata": {
        "_uuid": "99ddd52965905f50d3ec2446b93d862c60254a63",
        "id": "-W7yxxIYDrtg",
        "colab_type": "text"
      },
      "source": [
        "## Save Video"
      ]
    },
    {
      "cell_type": "code",
      "metadata": {
        "trusted": true,
        "_uuid": "6545caf519055a7d621338547a709dc941efecab",
        "id": "mMrVs76qDrti",
        "colab_type": "code",
        "colab": {}
      },
      "source": [
        "video = cv2.VideoWriter('AI_Dance_Video.avi', cv2.VideoWriter_fourcc(*\"XVID\"), 20.0, (IMG_WIDTH, IMG_HEIGHT),False)\n",
        "\n",
        "for img in Dance_Output:\n",
        "    img = resize(img, (IMG_HEIGHT,IMG_WIDTH), mode='constant', preserve_range=True)\n",
        "    img = img * 255\n",
        "    img = img.astype('uint8')\n",
        "    video.write(img)\n",
        "    cv2.waitKey(50)\n",
        "    \n",
        "video.release()"
      ],
      "execution_count": 0,
      "outputs": []
    },
    {
      "cell_type": "markdown",
      "metadata": {
        "_uuid": "fdfe6e988b28dfae16684a39e7f8033a947454cb",
        "id": "Iywy4WWuDrtk",
        "colab_type": "text"
      },
      "source": [
        "# Part 3 Results\n",
        "\n",
        "The results of the video are surprisingly crisp. Even small things like the swish of the skirt or swoop of the hair are caught in the video. Like in the youtube video, these results are pretty overfit and the computer is mostly duplicating the dances. However, there are some interesting variations and deformations in the video. The dancer will sometimes shrink and expand its arms or compress into a blob and reform. Playing with the model or the loopbreaker can lead to some interesting results.\n",
        "\n",
        "### Possible Improvements\n",
        "\n",
        "- The RNN model could use more and varied dances to train on. A cheap way to do this is just take more frames from the video in part 1. There is also a 5 hour version of these dancing silhouettes. (However, only 3 hours are usable)\n",
        "\n",
        "- I don't think that the model needs any more layers, it is large enough as is, but readjusting the shape might make it more efficient. On text data RNNs, I tried using 1D convolution layers with mixed results. (It speeds up the training time a lot but the model is more prone to looping) Might work here though."
      ]
    },
    {
      "cell_type": "markdown",
      "metadata": {
        "_uuid": "df040ab369a06da2baac20770c225f0ec2171be7",
        "id": "6uINwch_Drtl",
        "colab_type": "text"
      },
      "source": [
        "# Conclusion\n",
        "\n",
        "All and all, I am very pleased with the results. There is plenty of room to grow so I am going continue to improve and use this notebook for building more interesting dance and video bots. I consider this the first of a series of related coding projects.\n",
        "\n",
        "If you enjoyed and learned something from this notebook, please like, comment, and check out some of my other coding projects on Kaggle and Github."
      ]
    },
    {
      "cell_type": "code",
      "metadata": {
        "_kg_hide-input": true,
        "trusted": true,
        "_uuid": "4371251da90851a271530077e8e688d2aafc4b0f",
        "id": "skmQEWwwDrtl",
        "colab_type": "code",
        "colab": {}
      },
      "source": [
        "from IPython.display import Image\n",
        "Image(\"../input/Dance_Robots_Comic2.png\")"
      ],
      "execution_count": 0,
      "outputs": []
    }
  ]
}