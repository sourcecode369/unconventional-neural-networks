{
  "nbformat": 4,
  "nbformat_minor": 0,
  "metadata": {
    "colab": {
      "name": "Attention Mechanism 1 - MNIST.ipynb",
      "provenance": [],
      "collapsed_sections": [],
      "include_colab_link": true
    },
    "kernelspec": {
      "name": "python3",
      "display_name": "Python 3"
    },
    "accelerator": "GPU"
  },
  "cells": [
    {
      "cell_type": "markdown",
      "metadata": {
        "id": "view-in-github",
        "colab_type": "text"
      },
      "source": [
        "<a href=\"https://colab.research.google.com/github/sourcecode369/unconventional-neural-networks/blob/master/attention-mechanism-%26-attention-maps/Attention_Mechanism_1_MNIST.ipynb\" target=\"_parent\"><img src=\"https://colab.research.google.com/assets/colab-badge.svg\" alt=\"Open In Colab\"/></a>"
      ]
    },
    {
      "cell_type": "markdown",
      "metadata": {
        "id": "1N1auUc7wggH",
        "colab_type": "text"
      },
      "source": [
        "#### References\n",
        "\n",
        "1. https://github.com/johnsmithm/multi-heads-attention-image-classification/blob/master/multi-heads-attention-mnist.py\n",
        "\n",
        "2. https://github.com/RobRomijnders/attention\n",
        "\n",
        "3. https://medium.com/@moshnoi2000/all-you-need-is-attention-computer-vision-edition-dbe7538330a4\n",
        "\n",
        "4. https://jacobgil.github.io/deeplearning/class-activation-maps\n",
        "\n",
        "5. https://www.kaggle.com/kmader/pretrained-vgg16-w-attention-for-seedlings\n",
        "\n",
        "6. https://www.kaggle.com/kmader/pretrained-vgg16-w-attention-for-tuberculosis\n",
        "\n",
        "7. https://www.kaggle.com/kmader/attention-on-pretrained-vgg16-for-bone-age\n",
        "\n",
        "8. https://lab.heuritech.com/attention-mechanism"
      ]
    },
    {
      "cell_type": "code",
      "metadata": {
        "id": "gY0yqBV2cwUm",
        "colab_type": "code",
        "colab": {
          "base_uri": "https://localhost:8080/",
          "height": 51
        },
        "outputId": "3e548b87-64bf-412a-d2fb-9ae09954e6c3"
      },
      "source": [
        "%tensorflow_version 2.x\n",
        "import tensorflow as tf\n",
        "print(\"TensorFlow version: {}\".format(tf.__version__))"
      ],
      "execution_count": 1,
      "outputs": [
        {
          "output_type": "stream",
          "text": [
            "TensorFlow 2.x selected.\n",
            "TensorFlow version: 2.0.0\n"
          ],
          "name": "stdout"
        }
      ]
    },
    {
      "cell_type": "code",
      "metadata": {
        "id": "7EibwqeJd26Q",
        "colab_type": "code",
        "colab": {}
      },
      "source": [
        "from tensorflow import keras\n",
        "from tensorflow.keras.layers import Conv2D, MaxPooling2D, Input, Flatten, Dense, Lambda, Reshape, Layer, Add\n",
        "from tensorflow.keras.models import Model\n",
        "from tensorflow.keras.datasets import mnist\n",
        "from tensorflow.keras.callbacks import EarlyStopping, LearningRateScheduler, TensorBoard, ModelCheckpoint\n",
        "from tensorflow.keras.utils import plot_model \n",
        "from tensorflow.keras import backend as K\n",
        "\n",
        "import numpy as np \n",
        "import pandas as pd \n",
        "import matplotlib.pyplot as plt \n",
        "%matplotlib inline\n",
        "%config InlineBackend.figure_format = \"retina\""
      ],
      "execution_count": 0,
      "outputs": []
    },
    {
      "cell_type": "code",
      "metadata": {
        "id": "44OLqzIdoMQT",
        "colab_type": "code",
        "colab": {
          "base_uri": "https://localhost:8080/",
          "height": 68
        },
        "outputId": "e5e20720-cf79-43a2-c582-605a518c5628"
      },
      "source": [
        "(X_train, y_train), (X_test, y_test) = mnist.load_data()\n",
        "X_train, X_test = X_train[..., np.newaxis], X_test[..., np.newaxis]\n",
        "X_train, X_test = X_train / 255.0, X_test / 255.0\n",
        "print(f\"{X_train.shape}, {X_test.shape}\")"
      ],
      "execution_count": 3,
      "outputs": [
        {
          "output_type": "stream",
          "text": [
            "Downloading data from https://storage.googleapis.com/tensorflow/tf-keras-datasets/mnist.npz\n",
            "11493376/11490434 [==============================] - 0s 0us/step\n",
            "(60000, 28, 28, 1), (10000, 28, 28, 1)\n"
          ],
          "name": "stdout"
        }
      ]
    },
    {
      "cell_type": "code",
      "metadata": {
        "id": "CaJiO357opbc",
        "colab_type": "code",
        "colab": {}
      },
      "source": [
        "input = Input((28,28,1))\n",
        "x = Conv2D(32, (3,3), activation=\"relu\", padding=\"same\")(input)\n",
        "x = MaxPooling2D((2,2))(x)\n",
        "x = Conv2D(64, (3,3), activation=\"relu\", padding=\"same\")(x)\n",
        "x = MaxPooling2D((2,2))(x)\n",
        "x = Conv2D(64*3, (2,2), activation=\"relu\", padding=\"same\")(x)\n",
        "x = MaxPooling2D((2,2))(x)\n",
        "x = Flatten()(x)\n",
        "x = Dense(256, activation=\"relu\")(x)\n",
        "output = Dense(10, activation=\"softmax\")(x)"
      ],
      "execution_count": 0,
      "outputs": []
    },
    {
      "cell_type": "code",
      "metadata": {
        "id": "uu8hRIaZpT8W",
        "colab_type": "code",
        "colab": {
          "base_uri": "https://localhost:8080/",
          "height": 493
        },
        "outputId": "3a5a2f87-920f-4e7c-d454-bc4dfa2dc556"
      },
      "source": [
        "model = Model(input, output)\n",
        "model.summary()"
      ],
      "execution_count": 5,
      "outputs": [
        {
          "output_type": "stream",
          "text": [
            "Model: \"model\"\n",
            "_________________________________________________________________\n",
            "Layer (type)                 Output Shape              Param #   \n",
            "=================================================================\n",
            "input_1 (InputLayer)         [(None, 28, 28, 1)]       0         \n",
            "_________________________________________________________________\n",
            "conv2d (Conv2D)              (None, 28, 28, 32)        320       \n",
            "_________________________________________________________________\n",
            "max_pooling2d (MaxPooling2D) (None, 14, 14, 32)        0         \n",
            "_________________________________________________________________\n",
            "conv2d_1 (Conv2D)            (None, 14, 14, 64)        18496     \n",
            "_________________________________________________________________\n",
            "max_pooling2d_1 (MaxPooling2 (None, 7, 7, 64)          0         \n",
            "_________________________________________________________________\n",
            "conv2d_2 (Conv2D)            (None, 7, 7, 192)         49344     \n",
            "_________________________________________________________________\n",
            "max_pooling2d_2 (MaxPooling2 (None, 3, 3, 192)         0         \n",
            "_________________________________________________________________\n",
            "flatten (Flatten)            (None, 1728)              0         \n",
            "_________________________________________________________________\n",
            "dense (Dense)                (None, 256)               442624    \n",
            "_________________________________________________________________\n",
            "dense_1 (Dense)              (None, 10)                2570      \n",
            "=================================================================\n",
            "Total params: 513,354\n",
            "Trainable params: 513,354\n",
            "Non-trainable params: 0\n",
            "_________________________________________________________________\n"
          ],
          "name": "stdout"
        }
      ]
    },
    {
      "cell_type": "code",
      "metadata": {
        "id": "Hp8XODzTpnP9",
        "colab_type": "code",
        "colab": {
          "base_uri": "https://localhost:8080/",
          "height": 1000
        },
        "outputId": "0adbba6a-faaa-4ef5-e8c2-418e4e735f6a"
      },
      "source": [
        "model.compile(optimizer=\"adam\", loss=\"sparse_categorical_crossentropy\", metrics=[\"accuracy\"])\n",
        "model_history = model.fit(X_train, y_train, epochs=50, batch_size=4096, verbose=1, validation_data=(X_test, y_test), callbacks=[tf.keras.callbacks.EarlyStopping(monitor=\"val_loss\", patience=3,verbose=1)])"
      ],
      "execution_count": 6,
      "outputs": [
        {
          "output_type": "stream",
          "text": [
            "Train on 60000 samples, validate on 10000 samples\n",
            "Epoch 1/50\n",
            "60000/60000 [==============================] - 7s 113us/sample - loss: 1.6213 - accuracy: 0.6001 - val_loss: 0.6047 - val_accuracy: 0.8105\n",
            "Epoch 2/50\n",
            "60000/60000 [==============================] - 1s 19us/sample - loss: 0.4349 - accuracy: 0.8671 - val_loss: 0.2588 - val_accuracy: 0.9242\n",
            "Epoch 3/50\n",
            "60000/60000 [==============================] - 1s 20us/sample - loss: 0.2191 - accuracy: 0.9353 - val_loss: 0.1514 - val_accuracy: 0.9516\n",
            "Epoch 4/50\n",
            "60000/60000 [==============================] - 1s 19us/sample - loss: 0.1448 - accuracy: 0.9572 - val_loss: 0.1095 - val_accuracy: 0.9643\n",
            "Epoch 5/50\n",
            "60000/60000 [==============================] - 1s 19us/sample - loss: 0.1105 - accuracy: 0.9667 - val_loss: 0.0853 - val_accuracy: 0.9731\n",
            "Epoch 6/50\n",
            "60000/60000 [==============================] - 1s 19us/sample - loss: 0.0912 - accuracy: 0.9723 - val_loss: 0.0736 - val_accuracy: 0.9774\n",
            "Epoch 7/50\n",
            "60000/60000 [==============================] - 1s 19us/sample - loss: 0.0772 - accuracy: 0.9758 - val_loss: 0.0604 - val_accuracy: 0.9813\n",
            "Epoch 8/50\n",
            "60000/60000 [==============================] - 1s 19us/sample - loss: 0.0684 - accuracy: 0.9793 - val_loss: 0.0535 - val_accuracy: 0.9834\n",
            "Epoch 9/50\n",
            "60000/60000 [==============================] - 1s 19us/sample - loss: 0.0613 - accuracy: 0.9815 - val_loss: 0.0501 - val_accuracy: 0.9837\n",
            "Epoch 10/50\n",
            "60000/60000 [==============================] - 1s 20us/sample - loss: 0.0564 - accuracy: 0.9832 - val_loss: 0.0474 - val_accuracy: 0.9854\n",
            "Epoch 11/50\n",
            "60000/60000 [==============================] - 1s 19us/sample - loss: 0.0505 - accuracy: 0.9853 - val_loss: 0.0413 - val_accuracy: 0.9873\n",
            "Epoch 12/50\n",
            "60000/60000 [==============================] - 1s 19us/sample - loss: 0.0450 - accuracy: 0.9865 - val_loss: 0.0391 - val_accuracy: 0.9875\n",
            "Epoch 13/50\n",
            "60000/60000 [==============================] - 1s 19us/sample - loss: 0.0433 - accuracy: 0.9869 - val_loss: 0.0376 - val_accuracy: 0.9876\n",
            "Epoch 14/50\n",
            "60000/60000 [==============================] - 1s 19us/sample - loss: 0.0398 - accuracy: 0.9875 - val_loss: 0.0413 - val_accuracy: 0.9869\n",
            "Epoch 15/50\n",
            "60000/60000 [==============================] - 1s 20us/sample - loss: 0.0387 - accuracy: 0.9882 - val_loss: 0.0339 - val_accuracy: 0.9891\n",
            "Epoch 16/50\n",
            "60000/60000 [==============================] - 1s 20us/sample - loss: 0.0364 - accuracy: 0.9884 - val_loss: 0.0338 - val_accuracy: 0.9887\n",
            "Epoch 17/50\n",
            "60000/60000 [==============================] - 1s 19us/sample - loss: 0.0361 - accuracy: 0.9886 - val_loss: 0.0326 - val_accuracy: 0.9887\n",
            "Epoch 18/50\n",
            "60000/60000 [==============================] - 1s 20us/sample - loss: 0.0315 - accuracy: 0.9900 - val_loss: 0.0316 - val_accuracy: 0.9897\n",
            "Epoch 19/50\n",
            "60000/60000 [==============================] - 1s 19us/sample - loss: 0.0293 - accuracy: 0.9912 - val_loss: 0.0306 - val_accuracy: 0.9892\n",
            "Epoch 20/50\n",
            "60000/60000 [==============================] - 1s 19us/sample - loss: 0.0283 - accuracy: 0.9915 - val_loss: 0.0315 - val_accuracy: 0.9891\n",
            "Epoch 21/50\n",
            "60000/60000 [==============================] - 1s 20us/sample - loss: 0.0271 - accuracy: 0.9919 - val_loss: 0.0310 - val_accuracy: 0.9894\n",
            "Epoch 22/50\n",
            "60000/60000 [==============================] - 1s 20us/sample - loss: 0.0249 - accuracy: 0.9924 - val_loss: 0.0283 - val_accuracy: 0.9912\n",
            "Epoch 23/50\n",
            "60000/60000 [==============================] - 1s 19us/sample - loss: 0.0233 - accuracy: 0.9933 - val_loss: 0.0282 - val_accuracy: 0.9903\n",
            "Epoch 24/50\n",
            "60000/60000 [==============================] - 1s 19us/sample - loss: 0.0217 - accuracy: 0.9935 - val_loss: 0.0270 - val_accuracy: 0.9905\n",
            "Epoch 25/50\n",
            "60000/60000 [==============================] - 1s 19us/sample - loss: 0.0212 - accuracy: 0.9940 - val_loss: 0.0268 - val_accuracy: 0.9906\n",
            "Epoch 26/50\n",
            "60000/60000 [==============================] - 1s 20us/sample - loss: 0.0195 - accuracy: 0.9940 - val_loss: 0.0261 - val_accuracy: 0.9914\n",
            "Epoch 27/50\n",
            "60000/60000 [==============================] - 1s 19us/sample - loss: 0.0191 - accuracy: 0.9940 - val_loss: 0.0291 - val_accuracy: 0.9909\n",
            "Epoch 28/50\n",
            "60000/60000 [==============================] - 1s 19us/sample - loss: 0.0210 - accuracy: 0.9934 - val_loss: 0.0308 - val_accuracy: 0.9894\n",
            "Epoch 29/50\n",
            "60000/60000 [==============================] - 1s 20us/sample - loss: 0.0186 - accuracy: 0.9944 - val_loss: 0.0235 - val_accuracy: 0.9921\n",
            "Epoch 30/50\n",
            "60000/60000 [==============================] - 1s 20us/sample - loss: 0.0162 - accuracy: 0.9952 - val_loss: 0.0262 - val_accuracy: 0.9915\n",
            "Epoch 31/50\n",
            "60000/60000 [==============================] - 1s 19us/sample - loss: 0.0152 - accuracy: 0.9956 - val_loss: 0.0240 - val_accuracy: 0.9917\n",
            "Epoch 32/50\n",
            "60000/60000 [==============================] - 1s 20us/sample - loss: 0.0152 - accuracy: 0.9953 - val_loss: 0.0256 - val_accuracy: 0.9914\n",
            "Epoch 00032: early stopping\n"
          ],
          "name": "stdout"
        }
      ]
    },
    {
      "cell_type": "code",
      "metadata": {
        "id": "lM6Z6H6YqICL",
        "colab_type": "code",
        "colab": {}
      },
      "source": [
        "def MultiHeadsAttModel(l=8*8, d=512, dv=64, dout=512, nv = 8 ):\n",
        "\n",
        "    v1 = Input(shape = (l, d))\n",
        "    q1 = Input(shape = (l, d))\n",
        "    k1 = Input(shape = (l, d))\n",
        "\n",
        "    v2 = Dense(dv*nv, activation = \"relu\")(v1)\n",
        "    q2 = Dense(dv*nv, activation = \"relu\")(q1)\n",
        "    k2 = Dense(dv*nv, activation = \"relu\")(k1)\n",
        "\n",
        "    v = Reshape([l, nv, dv])(v2)\n",
        "    q = Reshape([l, nv, dv])(q2)\n",
        "    k = Reshape([l, nv, dv])(k2)\n",
        "        \n",
        "    att = Lambda(lambda x: K.batch_dot(x[0],x[1] ,axes=[-1,-1]) / np.sqrt(dv),\n",
        "                 output_shape=(l, nv, nv))([q,k])# l, nv, nv\n",
        "    att = Lambda(lambda x:  K.softmax(x) , output_shape=(l, nv, nv))(att)\n",
        "\n",
        "    out = Lambda(lambda x: K.batch_dot(x[0], x[1],axes=[4,3]),  output_shape=(l, nv, dv))([att, v])\n",
        "    out = Reshape([l, d])(out)\n",
        "    \n",
        "    out = Add()([out, q1])\n",
        "\n",
        "    out = Dense(dout, activation = \"relu\")(out)\n",
        "\n",
        "    return  Model(inputs=[q1,k1,v1], outputs=out)"
      ],
      "execution_count": 0,
      "outputs": []
    },
    {
      "cell_type": "code",
      "metadata": {
        "id": "sHtoYI4dC14R",
        "colab_type": "code",
        "colab": {}
      },
      "source": [
        "class NormL(tf.keras.layers.Layer):\n",
        "  def __init__(self, **kwargs):\n",
        "    super(NormL, self).__init__(**kwargs)\n",
        "  def build(self, input_shape):\n",
        "    self.a = self.add_weight(name='kernel',\n",
        "                             shape=(1, input_shape[-1]),\n",
        "                             initializer = 'zeros',\n",
        "                             trainable=True)\n",
        "    self.b = self.add_weight(name=\"kernel\",\n",
        "                             shape=(1, input_shape[-1]),\n",
        "                             initializer = \"zeros\",\n",
        "                             trainable=True)\n",
        "    super(NormL, self).build(input_shape)\n",
        "  def call(self, x):\n",
        "    eps = 0.000001\n",
        "    mu = K.mean(x, keepdims=True, axis=-1)\n",
        "    sigma = K.std(x, keepdims=True, axis=-1)\n",
        "    ln_out = (x - mu) / (sigma + eps)\n",
        "    return ln_out*self.a + self.b"
      ],
      "execution_count": 0,
      "outputs": []
    },
    {
      "cell_type": "code",
      "metadata": {
        "id": "Jtd0_n25uD1s",
        "colab_type": "code",
        "colab": {}
      },
      "source": [
        "input = Input((28,28,1))\n",
        "x = Conv2D(32, (3,3), activation=\"relu\", padding=\"same\")(input)\n",
        "x = MaxPooling2D((2,2))(x)\n",
        "x = Conv2D(64, (3,3), activation=\"relu\", padding=\"same\")(x)\n",
        "x = MaxPooling2D((2,2))(x)\n",
        "x = Conv2D(64*3, (2,2), activation=\"relu\", padding=\"same\")(x)\n",
        "x = MaxPooling2D((2,2))(x)\n",
        "x = Reshape([6*6, 64*3])(x)\n",
        "att = MultiHeadsAttention(l=6*6, d=64*3, dv=8*3, dout=32, nv=8)\n",
        "x = att([x,x,x])\n",
        "x = Reshape([6,6,32])(x)\n",
        "x = NormL()(x)\n",
        "x = Flatten()(x)\n",
        "x = Dense(256, activation=\"relu\")(x)\n",
        "output = Dense(10, activation=\"softmax\")(x)"
      ],
      "execution_count": 0,
      "outputs": []
    },
    {
      "cell_type": "code",
      "metadata": {
        "id": "9W98UjHmvf_f",
        "colab_type": "code",
        "colab": {}
      },
      "source": [
        "model = Model(inputs=inp, outputs=x)\n",
        "model.compile(loss='categorical_crossentropy', optimizer='adam',metrics=['accuracy'])\n",
        "tbCallBack = TensorBoard(log_dir='./Graph/mhatt1', histogram_freq=0, write_graph=True, write_images=True)\n",
        "model.fit(X_train, Y_train,\n",
        "          batch_size=128, \n",
        "          epochs=100,\n",
        "          verbose=1,          \n",
        "          validation_data=(X_test, Y_test),\n",
        "          callbacks=[tbCallBack]\n",
        "          )"
      ],
      "execution_count": 0,
      "outputs": []
    }
  ]
}